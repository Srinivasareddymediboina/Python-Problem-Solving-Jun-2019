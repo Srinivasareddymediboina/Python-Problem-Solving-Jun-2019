{
 "cells": [
  {
   "cell_type": "markdown",
   "metadata": {},
   "source": [
    "### Day Objectives\n",
    "##### Regular Expressions\n",
    "- Constructing Regular Expressions for various use cases\n",
    "    - Regular Expressions Modules and related in Python\n",
    "    - Improving the Contacts application with name and phone number validation\n",
    "- File Handling \n",
    "    - Text Files\n",
    "    - Upgrading the Contacts Application to store contact information in a text file \n"
   ]
  },
  {
   "cell_type": "markdown",
   "metadata": {},
   "source": [
    "- Pattern Matching\n",
    "- Symbolic Notation of a pattern\n",
    "- Pattern : Format which repeats\n",
    "- Pattern(RE) represents The set of all values that match a pattern\n",
    "- [0-9] -> Any digit\n",
    "\n",
    "- [a-z] -> Any lower case alphabet\n",
    "\n",
    "- [2468] -> All single digit multiples of 2\n",
    "\n",
    "- ^[0-9]{1}$ Only single digit numbers\n",
    "\n",
    "- ^[0-9]{3}$ Only 3 digit numbers\n",
    "\n",
    "\n",
    "- [0-9]*0$ -> All multiples of 10\n",
    "\n",
    "\n",
    "- ^([1-9][0-9]*[05])$|^([5])$ -> All multiples of 5\n",
    " \n",
    "\n",
    "- -> All 10 digit numbers\n",
    "\n",
    "\n",
    "- [w][o][r][d] or (word) -> Searching for a 'word'\n",
    "\n",
    "\n",
    "- ^[6-9][0-9]{9}$|^[0][6-9][0-9]{9}|^[+][9][1][6-9][0-9]{9}$ -> Validating Phone number(India)(start with 9876 followed by 9 digits)"
   ]
  },
  {
   "cell_type": "code",
   "execution_count": null,
   "metadata": {},
   "outputs": [],
   "source": []
  },
  {
   "cell_type": "code",
   "execution_count": 4,
   "metadata": {},
   "outputs": [
    {
     "name": "stdout",
     "output_type": "stream",
     "text": [
      "+919876543211\n"
     ]
    },
    {
     "data": {
      "text/plain": [
       "True"
      ]
     },
     "execution_count": 4,
     "metadata": {},
     "output_type": "execute_result"
    }
   ],
   "source": [
    "#Function to validated a phone number\n",
    "import re\n",
    "def phoneNumberValidator(phone):\n",
    "    pattern=\"^[6-9][0-9]{9}$|^[+][9][1][6-9][0-9]{9}$\"\n",
    "    if re.match(pattern,str(phone)):\n",
    "        return True\n",
    "    else:\n",
    "        return False\n",
    "phone=input()\n",
    "phoneNumberValidator(phone)"
   ]
  },
  {
   "cell_type": "code",
   "execution_count": 37,
   "metadata": {},
   "outputs": [
    {
     "data": {
      "text/plain": [
       "True"
      ]
     },
     "execution_count": 37,
     "metadata": {},
     "output_type": "execute_result"
    }
   ],
   "source": [
    "def emailValidator(email):\n",
    "    pattern=\"^[0-9a-z][0-9a-z_.]{4,14}[@][a-z]{2,13}[.][a-z]{1,4}\"\n",
    "    if re.match(pattern,email):\n",
    "        return True\n",
    "    \n",
    "    return False\n",
    "\n",
    "emailValidator(\"shgfg08@gmail.com\")\n",
    "    "
   ]
  },
  {
   "cell_type": "code",
   "execution_count": 6,
   "metadata": {},
   "outputs": [
    {
     "name": "stdout",
     "output_type": "stream",
     "text": [
      "name1 already exits\n"
     ]
    }
   ],
   "source": [
    "contacts={\"name1\":[9876543211,\"name1@gmail.com\"],\"srinu\":[9876543234,\"kjhgfgh@gmail.com\"]}\n",
    "def addContact(name,phone,email):\n",
    "    if name in contacts:\n",
    "        print(name,\"already exits\")\n",
    "    else:\n",
    "        if not phoneNumberValidator(phone):\n",
    "            print(\"invalid Phone Number\")\n",
    "            return\n",
    "        if not emailValidator(email):\n",
    "            print(\"invalid email address\")\n",
    "            return\n",
    "        newcontact=[]\n",
    "        newcontact.append(phone)\n",
    "        newcontact.append(email)\n",
    "        contacts[name]=newcontact\n",
    "    return\n",
    "\n",
    "addContact(\"name1\",9876543217,\"djfgv_@gmail.com\")"
   ]
  },
  {
   "cell_type": "code",
   "execution_count": 8,
   "metadata": {},
   "outputs": [
    {
     "name": "stdout",
     "output_type": "stream",
     "text": [
      " \n"
     ]
    }
   ],
   "source": [
    "f=open(\"DataFiles/contacts.txt\",\"a\")\n",
    "f.write(str(contacts))\n",
    "f.close()\n",
    "print(\" \")\n",
    "    "
   ]
  },
  {
   "cell_type": "code",
   "execution_count": 53,
   "metadata": {},
   "outputs": [
    {
     "name": "stdout",
     "output_type": "stream",
     "text": [
      "sri does not exits\n"
     ]
    }
   ],
   "source": [
    "def SearchContacts(name):\n",
    "    if name in contacts:\n",
    "        print(name)\n",
    "        print(\"phone:\",contacts[name][0])\n",
    "        print(\"email:\",contacts[name][1])\n",
    "    else:\n",
    "        print(\"%s does not exits\" % name)\n",
    "    return\n",
    "\n",
    "SearchContacts(\"sri\")"
   ]
  },
  {
   "cell_type": "code",
   "execution_count": 58,
   "metadata": {},
   "outputs": [
    {
     "name": "stdout",
     "output_type": "stream",
     "text": [
      "1 contacts added \n"
     ]
    },
    {
     "data": {
      "text/plain": [
       "dict_items([('name1', [9876543211, 'name1@gmail.com']), ('srinu', [9876543234, 'kjhgfgh@gmail.com']), ('srivasreddy', [9876546544, 'kjhgfghjlkvb@gmail.com'])])"
      ]
     },
     "execution_count": 58,
     "metadata": {},
     "output_type": "execute_result"
    }
   ],
   "source": [
    "def importContacts(newContacts):\n",
    "    contacts.update(newContacts)\n",
    "    print(len(newContacts.keys()),\"contacts added \")\n",
    "    return\n",
    "newContacts={\"srivasreddy\":[9876546544,\"kjhgfghjlkvb@gmail.com\"]}\n",
    "importContacts(newContacts)\n",
    "contacts.items()"
   ]
  },
  {
   "cell_type": "code",
   "execution_count": 59,
   "metadata": {},
   "outputs": [
    {
     "name": "stdout",
     "output_type": "stream",
     "text": [
      "name1 \n",
      " Phone : 9876543211 \n",
      " Email:  name1@gmail.com\n",
      "srinu \n",
      " Phone : 9876543234 \n",
      " Email:  kjhgfgh@gmail.com\n",
      "srivasreddy \n",
      " Phone : 9876546544 \n",
      " Email:  kjhgfghjlkvb@gmail.com\n"
     ]
    }
   ],
   "source": [
    "#Function to list all contacts\n",
    "def listAllContacts():\n",
    "    for contact, info in contacts.items():\n",
    "        print(contact,\"\\n\",\"Phone :\",info[0],\"\\n\",\"Email: \",info[1])\n",
    "    return   \n",
    "listAllContacts()"
   ]
  },
  {
   "cell_type": "code",
   "execution_count": null,
   "metadata": {},
   "outputs": [],
   "source": [
    "#Function to Edit contact information\n",
    "def editContact(name,phone,email):\n",
    "    if name in addContact:\n",
    "        "
   ]
  },
  {
   "cell_type": "markdown",
   "metadata": {},
   "source": [
    "### File Handeling in Python\n",
    "***File->*** Document Containing information on residing\n",
    "***Types->*** Text,PDF,CSV,\n",
    "\n",
    "FileI/O- Channelling I/O data to files\n",
    "Default I/O channels - Keyboard/Screen\n",
    "\n",
    "Chnge I/O Chanel to files for reading and writeing"
   ]
  },
  {
   "cell_type": "code",
   "execution_count": 71,
   "metadata": {},
   "outputs": [
    {
     "name": "stdout",
     "output_type": "stream",
     "text": [
      "welcome to Multiskills program\n",
      " this is viswanth reddy\n",
      " joint collector "
     ]
    }
   ],
   "source": [
    "#Function to read a file\n",
    "def readFile(filename):\n",
    "    file=open(filename,'r')\n",
    "    filedata=file.read()\n",
    "    file.close()\n",
    "    return filedata\n",
    "filename=\"DataFiles\\data.txt\"\n",
    "filedata=readFile(filename)\n",
    "#for line in filedata.split('\\n'):\n",
    "#   print(line)\n",
    "    \n",
    "def printFileDataFile(filename):\n",
    "    f=open(filename,\"r\")\n",
    "    for line in f:\n",
    "        print(line,end=\" \")\n",
    "    return\n",
    "printFileDataFile(filename)"
   ]
  },
  {
   "cell_type": "code",
   "execution_count": 77,
   "metadata": {},
   "outputs": [
    {
     "name": "stdout",
     "output_type": "stream",
     "text": [
      "done\n"
     ]
    }
   ],
   "source": [
    "#Function to write data into a file\n",
    "def writeIntoFile(filename,filedata):\n",
    "    with open(filename,\"w\") as f:\n",
    "        f.write(filedata)\n",
    "        print(\"done\")\n",
    "    return\n",
    "filename=\"DataFiles/data.txt\"\n",
    "writeIntoFile(filename,\"new dataaa i am adding to the file \\n\")    "
   ]
  },
  {
   "cell_type": "code",
   "execution_count": 79,
   "metadata": {},
   "outputs": [],
   "source": [
    "#function to append data from to a file\n",
    "def appendDataToFile(filename,filedata):\n",
    "    with open(filename,\"a\") as f:\n",
    "        for i in filedata:\n",
    "            \n",
    "            f.write(\"\\n\"+i)\n",
    "       \n",
    "    return\n",
    "filedata=[\"welcome\", \"data\"]\n",
    "appendDataToFile(filename,filedata) "
   ]
  },
  {
   "cell_type": "code",
   "execution_count": null,
   "metadata": {},
   "outputs": [],
   "source": []
  }
 ],
 "metadata": {
  "kernelspec": {
   "display_name": "Python 3",
   "language": "python",
   "name": "python3"
  },
  "language_info": {
   "codemirror_mode": {
    "name": "ipython",
    "version": 3
   },
   "file_extension": ".py",
   "mimetype": "text/x-python",
   "name": "python",
   "nbconvert_exporter": "python",
   "pygments_lexer": "ipython3",
   "version": "3.7.3"
  }
 },
 "nbformat": 4,
 "nbformat_minor": 2
}
