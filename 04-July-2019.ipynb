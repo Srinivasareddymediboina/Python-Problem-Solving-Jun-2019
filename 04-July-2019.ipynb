{
 "cells": [
  {
   "cell_type": "code",
   "execution_count": 3,
   "metadata": {},
   "outputs": [
    {
     "name": "stdout",
     "output_type": "stream",
     "text": [
      "1 10 1\n"
     ]
    },
    {
     "data": {
      "text/plain": [
       "10"
      ]
     },
     "execution_count": 3,
     "metadata": {},
     "output_type": "execute_result"
    }
   ],
   "source": [
    "def countDiv(n,n1,n2):\n",
    "    count=0\n",
    "    for i in range(n,n1+1):\n",
    "        if i%n2==0:\n",
    "            count+=1\n",
    "    return count\n",
    "n,n1,n2=map(int,input().split())\n",
    "countDiv(n,n1,n2)"
   ]
  },
  {
   "cell_type": "code",
   "execution_count": 8,
   "metadata": {},
   "outputs": [
    {
     "name": "stdout",
     "output_type": "stream",
     "text": [
      "13\n",
      "Motu\n"
     ]
    }
   ],
   "source": [
    "n=int(input())\n",
    "for i in range(1,n+1):\n",
    "    if n-i<=0:\n",
    "        print(\"Patlu\")\n",
    "        break\n",
    "    else:\n",
    "        n=n-i\n",
    "        if n-(i*2)<=0:\n",
    "            print(\"Motu\")\n",
    "            break\n",
    "        else:\n",
    "            n=n-i*2"
   ]
  },
  {
   "cell_type": "code",
   "execution_count": 16,
   "metadata": {},
   "outputs": [
    {
     "name": "stdout",
     "output_type": "stream",
     "text": [
      "1234567890\n",
      "Illegal\n"
     ]
    }
   ],
   "source": [
    "n=(input())\n",
    "s=0\n",
    "a=1\n",
    "if len(n)==10:\n",
    "    \n",
    "    for i in n:\n",
    "        s=s+int(i)*a\n",
    "        a+=1\n",
    "    if s%11==0:\n",
    "        print(\"Legal\")\n",
    "    else:\n",
    "        print(\"Illegal\")\n",
    "else:\n",
    "    print(\"Illegal\")"
   ]
  },
  {
   "cell_type": "code",
   "execution_count": 15,
   "metadata": {},
   "outputs": [
    {
     "name": "stdout",
     "output_type": "stream",
     "text": [
      "4\n",
      "1 2 3 4\n",
      "1\n"
     ]
    }
   ],
   "source": [
    "# Long Que Bank\n",
    "n=int(input())\n",
    "s=list(map(int,input().split()))\n",
    "s1=1\n",
    "for i in range(n-1):\n",
    "    if s[i]>s[i+1]:\n",
    "        s1+=1\n",
    "print(s1)"
   ]
  },
  {
   "cell_type": "code",
   "execution_count": 20,
   "metadata": {},
   "outputs": [
    {
     "name": "stdout",
     "output_type": "stream",
     "text": [
      "1 10 1\n",
      "10\n"
     ]
    }
   ],
   "source": [
    "l,r,s=list(map(int,input().split()))\n",
    "n=0\n",
    "for i in range(l,r+1):\n",
    "    if i%s==0:\n",
    "        n+=1\n",
    "print(n)"
   ]
  },
  {
   "cell_type": "code",
   "execution_count": 22,
   "metadata": {},
   "outputs": [
    {
     "name": "stdout",
     "output_type": "stream",
     "text": [
      "2\n",
      "12 12\n",
      "12 13\n",
      "24 25 "
     ]
    }
   ],
   "source": [
    "#Add Two Lists\n",
    "s=int(input())\n",
    "num1=list(map(int,input().split()))\n",
    "num2=list(map(int,input().split()))\n",
    "\n",
    "for i in range(s):\n",
    "    s1=num1[i]+num2[i]\n",
    "    print(s1,end=\" \")"
   ]
  },
  {
   "cell_type": "code",
   "execution_count": null,
   "metadata": {},
   "outputs": [],
   "source": [
    "s=int"
   ]
  }
 ],
 "metadata": {
  "kernelspec": {
   "display_name": "Python 3",
   "language": "python",
   "name": "python3"
  },
  "language_info": {
   "codemirror_mode": {
    "name": "ipython",
    "version": 3
   },
   "file_extension": ".py",
   "mimetype": "text/x-python",
   "name": "python",
   "nbconvert_exporter": "python",
   "pygments_lexer": "ipython3",
   "version": "3.7.3"
  }
 },
 "nbformat": 4,
 "nbformat_minor": 2
}
