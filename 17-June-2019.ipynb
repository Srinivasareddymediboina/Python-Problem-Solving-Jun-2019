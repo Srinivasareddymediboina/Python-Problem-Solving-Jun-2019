{
 "cells": [
  {
   "cell_type": "code",
   "execution_count": null,
   "metadata": {},
   "outputs": [],
   "source": [
    "#Toggle String\n",
    "def lowerandupper(name):\n",
    "    name=input()\n",
    "    words=\" \"\n",
    "    for word in name:\n",
    "        if word.isupper()==True:\n",
    "            words+=word.lower()\n",
    "        else:\n",
    "            words+=word.upper()\n",
    "    return words\n",
    "lowerandupper(name)"
   ]
  },
  {
   "cell_type": "code",
   "execution_count": 10,
   "metadata": {},
   "outputs": [
    {
     "name": "stdout",
     "output_type": "stream",
     "text": [
      "abc\n",
      "6\n"
     ]
    }
   ],
   "source": [
    "#Char Sum\n",
    "name=input()\n",
    "def charSum(name):\n",
    "    sum=0\n",
    "    for i in name:\n",
    "        s=ord(i)-96\n",
    "        sum=sum+s\n",
    "        \n",
    "    print(sum)\n",
    "charSum(name)"
   ]
  },
  {
   "cell_type": "code",
   "execution_count": 9,
   "metadata": {},
   "outputs": [
    {
     "data": {
      "text/plain": [
       "97"
      ]
     },
     "execution_count": 9,
     "metadata": {},
     "output_type": "execute_result"
    }
   ],
   "source": [
    "ord(\"a\")"
   ]
  },
  {
   "cell_type": "code",
   "execution_count": null,
   "metadata": {},
   "outputs": [],
   "source": [
    "s=\"1 44 2 14\"\n",
    "def minuteDiff(s):\n",
    "    s=s.split()\n",
    "    sh=int(s[0])\n",
    "    sm=int(s[1])\n",
    "    eh=int(s[2])\n",
    "    em=int(s[3])\n",
    "    startminutes=(sh*60)+sh\n",
    "    endminutes=(eh*60)+em\n",
    "    return endminutes-startminutes\n",
    "def outputTimeFormat(minutes):\n",
    "    #convert minutes to HH MM\n",
    "    hh=minutes//60\n",
    "    mm=minutes%60\n",
    "    print(hh,mm)\n",
    "    return\n",
    "n=int(input())\n",
    "for i in range(0,n):\n",
    "    s=input()\n",
    "    \n",
    "    \n",
    "minutes=minuteDiff(s)\n",
    "outputTimeFormat(minutes)"
   ]
  },
  {
   "cell_type": "markdown",
   "metadata": {},
   "source": [
    "### Perfect Number Exam Problem"
   ]
  },
  {
   "cell_type": "code",
   "execution_count": 6,
   "metadata": {},
   "outputs": [
    {
     "name": "stdout",
     "output_type": "stream",
     "text": [
      "3\n",
      "76\n",
      "NO\n",
      "7\n",
      "NO\n",
      "78\n",
      "NO\n"
     ]
    }
   ],
   "source": [
    "#Find The factors List\n",
    "#Exam Problem \n",
    "def PerfectNumber(n):\n",
    "    sum=0\n",
    "    for i in range(1,n):\n",
    "        \n",
    "        if n%i==0:\n",
    "            sum=sum+i\n",
    "            #print(\"YES\")\n",
    "    if sum==n:\n",
    "        print(\"YES\")\n",
    "    else:\n",
    "        print(\"NO\")\n",
    "    return\n",
    "t=int(input())\n",
    "for i in range(0,t):\n",
    "    n=int(input())\n",
    "    PerfectNumber(n)"
   ]
  },
  {
   "cell_type": "markdown",
   "metadata": {},
   "source": [
    "### Count The String and Numbers Exam Problem"
   ]
  },
  {
   "cell_type": "code",
   "execution_count": 2,
   "metadata": {},
   "outputs": [
    {
     "name": "stdout",
     "output_type": "stream",
     "text": [
      "dijfhg 3413\n",
      "4\n",
      "6\n"
     ]
    }
   ],
   "source": [
    "#Count the numbers of strings and numberof digits\n",
    "def countTheString(n):\n",
    "    \n",
    "    alphabit=0\n",
    "    count=0\n",
    "    for i in n:\n",
    "        if i.isdigit():\n",
    "            count+=1\n",
    "        elif i.isalpha():\n",
    "            alphabit+=1\n",
    "    print(count)\n",
    "    print(alphabit)\n",
    "n=input()\n",
    "countTheString(n)"
   ]
  },
  {
   "cell_type": "code",
   "execution_count": null,
   "metadata": {},
   "outputs": [],
   "source": []
  }
 ],
 "metadata": {
  "kernelspec": {
   "display_name": "Python 3",
   "language": "python",
   "name": "python3"
  },
  "language_info": {
   "codemirror_mode": {
    "name": "ipython",
    "version": 3
   },
   "file_extension": ".py",
   "mimetype": "text/x-python",
   "name": "python",
   "nbconvert_exporter": "python",
   "pygments_lexer": "ipython3",
   "version": "3.7.3"
  }
 },
 "nbformat": 4,
 "nbformat_minor": 2
}
