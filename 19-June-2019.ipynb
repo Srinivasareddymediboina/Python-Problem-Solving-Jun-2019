{
 "cells": [
  {
   "cell_type": "code",
   "execution_count": 3,
   "metadata": {},
   "outputs": [
    {
     "name": "stdout",
     "output_type": "stream",
     "text": [
      "2\n",
      "abd\n",
      "dsd\n",
      "4\n",
      "absd\n",
      "dnfljnf\n",
      "9\n"
     ]
    }
   ],
   "source": [
    "#Anagram\n",
    "def anagram(a,b):\n",
    "    s1=[0]*26\n",
    "    s2=[0]*26\n",
    "    for i in range(0,len(a)):#aadc\n",
    "        s1[ord(a[i])-97]=s1[ord(a[i])-97]+1 \n",
    "    for i in range(0,len(b)):\n",
    "        s2[ord(b[i])-97]=s2[ord(b[i])-97]+1\n",
    "    c=0\n",
    "    for i in range(26):\n",
    "        c=c+abs(s1[i]-s2[i])\n",
    "    print(c)\n",
    "n=int(input())\n",
    "for i in range(0,n):\n",
    "    a=input()\n",
    "    b=input()\n",
    "    anagram(a,b)\n",
    "    \n",
    "\n",
    "\n",
    "        \n",
    "    "
   ]
  },
  {
   "cell_type": "code",
   "execution_count": 15,
   "metadata": {},
   "outputs": [
    {
     "name": "stdout",
     "output_type": "stream",
     "text": [
      "12X345-67\n",
      "invalid\n"
     ]
    }
   ],
   "source": [
    "def AliHelp(n):\n",
    "    s=input()\n",
    "    a=list(s)\n",
    "    n=len(s)\n",
    "    for i in range(1,n):\n",
    "        if((int(a[0]))+int(a[1]))%2==0 and ((int(a[3]))+int(a[4]))%2==0 and ((int(a[4]))+int(a[5]))%2==0 and ((int(a[7]))+int(a[8]))%2==0:\n",
    "            if (a[2]==\"A\" or a[2]==\"E\" or a[2]==\"I\" or a[2]==\"O\" or a[2]==\"U\" or a[2]==\"A\"):\n",
    "                print(\"invalid\")\n",
    "            else:\n",
    "                print(\"valid\")\n",
    "        else:\n",
    "            print(\"invalid\")\n",
    "        break\n",
    "AliHelp(n)\n",
    "\n",
    "\n",
    "            "
   ]
  },
  {
   "cell_type": "code",
   "execution_count": 7,
   "metadata": {},
   "outputs": [
    {
     "name": "stdout",
     "output_type": "stream",
     "text": [
      "2\n",
      "18\n",
      "19 WS\n",
      "40\n"
     ]
    }
   ],
   "source": [
    "def seating(t):\n",
    "    if t%6==0 or t%6==1:\n",
    "        print(t,\"WS\")\n",
    "    elif t%6==2 or t%6==5:\n",
    "        print(t,\"MS\")\n",
    "    elif t==3 or t%6==4:\n",
    "        print(t,\"AS\")\n",
    "n=int(input())\n",
    "#for i in range()\n",
    "for i in range(0,n):\n",
    "    t=int(input())\n",
    "    s=t%12\n",
    "    if s==0:\n",
    "        t-=11\n",
    "    elif s<7:\n",
    "        t+=(2*(6-s)+1)\n",
    "    else:\n",
    "        t-=(2*(s-7)+1)\n",
    "    seating(t)\n",
    "    \n",
    "        \n",
    "    \n",
    "    \n",
    "    "
   ]
  },
  {
   "cell_type": "markdown",
   "metadata": {},
   "source": [
    "### "
   ]
  },
  {
   "cell_type": "code",
   "execution_count": null,
   "metadata": {},
   "outputs": [],
   "source": []
  }
 ],
 "metadata": {
  "kernelspec": {
   "display_name": "Python 3",
   "language": "python",
   "name": "python3"
  },
  "language_info": {
   "codemirror_mode": {
    "name": "ipython",
    "version": 3
   },
   "file_extension": ".py",
   "mimetype": "text/x-python",
   "name": "python",
   "nbconvert_exporter": "python",
   "pygments_lexer": "ipython3",
   "version": "3.7.3"
  }
 },
 "nbformat": 4,
 "nbformat_minor": 2
}
