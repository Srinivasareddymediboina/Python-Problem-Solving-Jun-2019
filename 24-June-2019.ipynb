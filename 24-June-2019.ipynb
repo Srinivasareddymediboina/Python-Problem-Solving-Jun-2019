{
 "cells": [
  {
   "cell_type": "code",
   "execution_count": null,
   "metadata": {},
   "outputs": [],
   "source": [
    "#Function to print the frequency count of all words in a file\n",
    "# Frequency Distribution\n",
    "\n",
    "# Data in Line 1\n",
    "# Data in Line 2\n",
    "# Data in Line 3\n",
    "# O/P\n",
    "# Data : 3\n",
    "# in : 3\n",
    "# Line : 3\n",
    "# 1 : 1\n",
    "# 2 : 1\n",
    "# 3 : 1\n",
    "\n",
    "def FreqDistributionOfWords2(filepath):\n",
    "    allWords=wordsFromFile(filepath)\n",
    "    wordFrequency={}\n",
    "    \n",
    "    for word in allWords:\n",
    "        if word not in wordFrequency.keys():\n",
    "            wordFrequency[word]=1\n",
    "        else:\n",
    "            wordFrequency[word]+=1\n",
    "\n",
    "    return wordFrequency\n",
    "\n",
    "FreqDistributionOfWords2(filepath)"
   ]
  },
  {
   "cell_type": "code",
   "execution_count": null,
   "metadata": {},
   "outputs": [],
   "source": [
    "#Contacts Application\n",
    "    #Add,Search,List,Modify Delete Contacts\n",
    "\n",
    "# Find and Replace Application\n",
    "    #Count the total number of occurances\n",
    "    #if word is existing\n",
    "    #Replace all occurances of a word with another word\n",
    "# Marks Analasis Application\n",
    "    #Generate marks file for n students\n",
    "    #Input: Marks text file - each line contains\n",
    "    #Generate a report with the following information\n",
    "        # Claa Average\n",
    "        # % of Students passed\n",
    "        # % of students failed\n",
    "        # % of students with distination\n",
    "    \n",
    "    "
   ]
  },
  {
   "cell_type": "markdown",
   "metadata": {},
   "source": [
    "### Marks Analasis Application\n",
    "    - Generate marks file for n students\n",
    "    - Input: Marks text file - each line contains\n",
    "    - Generate a report with the following information\n",
    "        - Claa Average\n",
    "        - % of Students passed\n",
    "        - % of students failed\n",
    "        - % of students with distination"
   ]
  },
  {
   "cell_type": "code",
   "execution_count": 140,
   "metadata": {},
   "outputs": [
    {
     "name": "stdout",
     "output_type": "stream",
     "text": [
      "enter the range1000\n",
      "enter the min lb35\n",
      "enter the max lb100\n"
     ]
    }
   ],
   "source": [
    "#Function to gererate marks data for n students\n",
    "\n",
    "def gernerateMarks(n,lb,ub):\n",
    "    with open(\"DataFiles/data.txt\",\"w\") as f:\n",
    "        for i in range(0,n):\n",
    "            r=randint(lb,ub)\n",
    "            f.write(str(r)+\"\\n\")\n",
    "            #print(i)\n",
    "    return\n",
    "from random import randint\n",
    "gernerateMarks(10000,25,100)\n",
    "\n",
    "                   "
   ]
  },
  {
   "cell_type": "code",
   "execution_count": 119,
   "metadata": {},
   "outputs": [
    {
     "name": "stdout",
     "output_type": "stream",
     "text": [
      "Averg of  62.5142\n"
     ]
    }
   ],
   "source": [
    "#from random import randint\n",
    "#from Packages.validator import countLinesFile as cl\n",
    "def AverageOfMarks(filepath):\n",
    "    \n",
    "    with open(filepath,\"r\") as f:\n",
    "        s=f.read().split()\n",
    "    \n",
    "        data=[]\n",
    "    #su=0\n",
    "        for i in s:\n",
    "            data.append(int(i))\n",
    "        s=0\n",
    "        for i in range(0,len(data)):\n",
    "            s+=data[i]\n",
    "        print (\"Averg of \",s/len(data))\n",
    "filepath=\"DataFiles/marks.txt\"    \n",
    "AverageOfMarks(filepath)\n",
    "\n"
   ]
  },
  {
   "cell_type": "code",
   "execution_count": 126,
   "metadata": {},
   "outputs": [
    {
     "name": "stdout",
     "output_type": "stream",
     "text": [
      "Pass Percentage  85.32\n"
     ]
    }
   ],
   "source": [
    "def PassPercentage(filepath):\n",
    "    \n",
    "    \n",
    "    with open(filepath,\"r\") as f:\n",
    "        s=f.read()\n",
    "        count=0\n",
    "        n=10000\n",
    "        for i in s.split():\n",
    "            if int(i) > 35:\n",
    "            \n",
    "                count=count+1\n",
    "        print (\"Pass Percentage \",(count/n)*100)      \n",
    "filepath=\"DataFiles/marks.txt\"  \n",
    "PassPercentage(filepath)\n",
    "        "
   ]
  },
  {
   "cell_type": "code",
   "execution_count": 115,
   "metadata": {},
   "outputs": [
    {
     "name": "stdout",
     "output_type": "stream",
     "text": [
      "Fail Percentage  14.680000000000001\n"
     ]
    }
   ],
   "source": [
    "def FailPercentage(filepath):\n",
    "    with open(filepath,\"r\") as data:\n",
    "        s=data.read()\n",
    "        count=0\n",
    "        n=10000\n",
    "        for i in s.split():\n",
    "            if int(i)<=35:\n",
    "                count+=1\n",
    "        print (\"Fail Percentage \",(count/n)*100)\n",
    "filepath=\"DataFiles/marks.txt\"\n",
    "FailPercentage(filepath)"
   ]
  },
  {
   "cell_type": "code",
   "execution_count": 117,
   "metadata": {},
   "outputs": [
    {
     "name": "stdout",
     "output_type": "stream",
     "text": [
      "Distention of  40.92\n"
     ]
    }
   ],
   "source": [
    "def DistentionPercentage(filepath):\n",
    "    with open(filepath,\"r\") as data:\n",
    "        s=data.read()\n",
    "        count=0\n",
    "        n=10000\n",
    "        for i in s.split():\n",
    "            if int(i)>=70:\n",
    "                count+=1\n",
    "        print (\"Distention of \",(count/n)*100)\n",
    "filepath=\"DataFiles/marks.txt\"\n",
    "DistentionPercentage(filepath)"
   ]
  },
  {
   "cell_type": "code",
   "execution_count": 113,
   "metadata": {},
   "outputs": [
    {
     "name": "stdout",
     "output_type": "stream",
     "text": [
      "Highest Mark Frequency:  100 111\n",
      "Lowest Mark Frequency:  25 121\n"
     ]
    }
   ],
   "source": [
    "# Function to print highest N lowest frequency\n",
    "\n",
    "def highestNLowestFrequency(filepath):\n",
    "    marks = [] # empty list\n",
    "    with open(filepath,'r') as data:\n",
    "        for student in data:\n",
    "            #student = int(student)\n",
    "            marks.append(int(student))\n",
    "    print(\"Highest Mark Frequency: \",max(marks),marks.count(max(marks)))\n",
    "    print(\"Lowest Mark Frequency: \",min(marks),marks.count(min(marks)))\n",
    "\n",
    "filepath = \"DataFiles/marks.txt\"  \n",
    "\n",
    "highestNLowestFrequency(filepath)"
   ]
  },
  {
   "cell_type": "code",
   "execution_count": 139,
   "metadata": {},
   "outputs": [
    {
     "name": "stdout",
     "output_type": "stream",
     "text": [
      "Averg of  62.5142\n",
      "Pass Percentage  85.32\n",
      "Fail Percentage  14.680000000000001\n",
      "Distention of  40.92\n",
      "Highest Mark Frequency:  100 111\n",
      "Lowest Mark Frequency:  25 121\n"
     ]
    }
   ],
   "source": [
    "def allFunctions(filepath): \n",
    "    AverageOfMarks(filepath)\n",
    "    PassPercentage(filepath)\n",
    "    FailPercentage(filepath)\n",
    "    DistentionPercentage(filepath)\n",
    "    highestNLowestFrequency(filepath)\n",
    "    \n",
    "filepath=\"DataFiles/marks.txt\"   \n",
    "allFunctions(filepath)\n",
    "    "
   ]
  },
  {
   "cell_type": "code",
   "execution_count": 138,
   "metadata": {},
   "outputs": [
    {
     "name": "stdout",
     "output_type": "stream",
     "text": [
      "Averg of  62.5142\n",
      "Pass Percentage  85.32\n",
      "Fail Percentage  14.680000000000001\n",
      "Distention of  40.92\n",
      "Highest Mark Frequency:  100 111\n",
      "Lowest Mark Frequency:  25 121\n"
     ]
    }
   ],
   "source": [
    "allFunctions(\"DataFiles/marks.txt\")"
   ]
  },
  {
   "cell_type": "markdown",
   "metadata": {},
   "source": [
    "### Find and Replace Application\n",
    "    - Count the total number of occurances\n",
    "    - if word is existing\n",
    "    - Replace all occurances of a word with another word"
   ]
  },
  {
   "cell_type": "code",
   "execution_count": 3,
   "metadata": {},
   "outputs": [
    {
     "name": "stdout",
     "output_type": "stream",
     "text": [
      "sri\n",
      "@@@@@\n"
     ]
    }
   ],
   "source": [
    "# Function for replacing all occurences of a word in a given file\n",
    "\n",
    "def replaceAllOccurencesOfWord(filepath, old_word, new_word):\n",
    "    import re\n",
    "    s2 = \"\"\n",
    "    with open(filepath,'r') as data:\n",
    "        for line in data:\n",
    "            line = line.strip()\n",
    "            pattern = \"(\"+old_word+\")\"\n",
    "            if(re.findall(pattern,line)):\n",
    "                words = line.split()\n",
    "                for word in range(len(words)):\n",
    "                    if(words[word] == old_word):\n",
    "                        words[word] = new_word\n",
    "                    else:\n",
    "                        words[word]= words[word]\n",
    "                for k in words:\n",
    "                    s2 = s2 + k + \" \"\n",
    "                s2 = s2 + \"\\n\"\n",
    "            else:\n",
    "                s2 = s2 + line + \"\\n\"\n",
    "                continue\n",
    "    with open(filepath,'w') as info:\n",
    "        info.write(s2)\n",
    "                    \n",
    "                    \n",
    "            \n",
    "\n",
    "filepath = \"DataFiles/data.txt\"\n",
    "\n",
    "old_word = input()\n",
    "\n",
    "new_word = input()\n",
    "\n",
    "\n",
    "replaceAllOccurencesOfWord(filepath, old_word, new_word)"
   ]
  },
  {
   "cell_type": "code",
   "execution_count": null,
   "metadata": {},
   "outputs": [],
   "source": []
  }
 ],
 "metadata": {
  "kernelspec": {
   "display_name": "Python 3",
   "language": "python",
   "name": "python3"
  },
  "language_info": {
   "codemirror_mode": {
    "name": "ipython",
    "version": 3
   },
   "file_extension": ".py",
   "mimetype": "text/x-python",
   "name": "python",
   "nbconvert_exporter": "python",
   "pygments_lexer": "ipython3",
   "version": "3.7.3"
  }
 },
 "nbformat": 4,
 "nbformat_minor": 2
}
