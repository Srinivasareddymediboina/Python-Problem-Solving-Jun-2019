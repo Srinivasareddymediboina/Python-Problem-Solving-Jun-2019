{
 "cells": [
  {
   "cell_type": "code",
   "execution_count": 14,
   "metadata": {},
   "outputs": [
    {
     "name": "stdout",
     "output_type": "stream",
     "text": [
      "1 2\n",
      "1 3\n",
      "2 3\n"
     ]
    }
   ],
   "source": [
    "l=[1,2,3]\n",
    "# (1,2),(1,3),(2,3)\n",
    "for i in range(0,len(l)-1):\n",
    "    for j in range(i+1,len(l)):\n",
    "            print(l[i],l[j],end='\\n')"
   ]
  },
  {
   "cell_type": "code",
   "execution_count": 15,
   "metadata": {},
   "outputs": [
    {
     "data": {
      "text/plain": [
       "[1, 2]"
      ]
     },
     "execution_count": 15,
     "metadata": {},
     "output_type": "execute_result"
    }
   ],
   "source": [
    "l=[1,2,3]\n",
    "nl=[]\n",
    "for i in range(len(l)-1):\n",
    "    for j in range(i+1,len(l)):\n",
    "        d=abs(l[i]-l[j])\n",
    "        if d not in l or d not in nl:\n",
    "            nl.append(d)\n",
    "nl"
   ]
  },
  {
   "cell_type": "code",
   "execution_count": 17,
   "metadata": {},
   "outputs": [
    {
     "name": "stdout",
     "output_type": "stream",
     "text": [
      "90272\n",
      "90331\n",
      "90283\n",
      "90282\n",
      "90124\n",
      "90266\n",
      "90245\n",
      "90244\n",
      "90133\n",
      "90303\n",
      "90186\n",
      "90273\n",
      "90444\n",
      "90421\n",
      "90064\n",
      "90327\n",
      "90001\n",
      "90419\n",
      "90353\n",
      "90152\n",
      "90346\n",
      "90133\n",
      "90020\n",
      "90367\n",
      "90227\n",
      "90270\n",
      "89974\n",
      "90326\n",
      "90278\n",
      "90268\n",
      "90159\n",
      "90193\n",
      "90261\n",
      "90045\n",
      "90116\n",
      "90178\n",
      "90454\n",
      "90291\n",
      "90043\n",
      "90255\n",
      "90138\n",
      "90054\n",
      "90030\n",
      "90114\n",
      "90414\n",
      "90419\n",
      "90034\n",
      "90055\n",
      "90206\n",
      "90000\n",
      "90173\n",
      "90474\n",
      "90327\n",
      "90432\n",
      "90412\n",
      "90273\n",
      "90080\n",
      "90159\n",
      "90343\n",
      "90065\n",
      "90125\n",
      "90343\n",
      "90184\n",
      "90007\n",
      "89991\n",
      "90441\n",
      "90143\n",
      "90227\n",
      "90497\n",
      "90112\n",
      "90352\n",
      "90051\n",
      "90047\n",
      "90228\n",
      "90098\n",
      "90187\n",
      "90028\n",
      "90121\n",
      "90123\n",
      "90201\n",
      "90013\n",
      "90383\n",
      "90159\n",
      "90284\n",
      "90367\n",
      "90057\n",
      "90394\n",
      "90323\n",
      "90487\n",
      "90448\n",
      "90339\n",
      "90129\n",
      "90046\n",
      "90074\n",
      "90014\n",
      "90405\n",
      "90400\n",
      "90397\n",
      "90434\n",
      "90377\n"
     ]
    }
   ],
   "source": [
    "  with open('DataFiles/Maxinput.txt',\"r\") as f:\n",
    "        t=int(f.readline())\n",
    "        for i in range(t):\n",
    "            f.readline()\n",
    "            li=list(map(int,f.readline().split()))\n",
    "            k=int(f.readline())\n",
    "            print(max(li)-k+1)"
   ]
  },
  {
   "cell_type": "code",
   "execution_count": 26,
   "metadata": {},
   "outputs": [
    {
     "name": "stdout",
     "output_type": "stream",
     "text": [
      "4\n",
      "1 2 3 4 5\n",
      "120\n"
     ]
    }
   ],
   "source": [
    "n=int(input())\n",
    "s=list(map(int,input().split()))\n",
    "\n",
    "s1=1\n",
    "for i in s:\n",
    "    \n",
    "    s1=(s1*i)%(pow(10,9)+7)\n",
    "print(s1)"
   ]
  },
  {
   "cell_type": "code",
   "execution_count": null,
   "metadata": {},
   "outputs": [],
   "source": []
  }
 ],
 "metadata": {
  "kernelspec": {
   "display_name": "Python 3",
   "language": "python",
   "name": "python3"
  },
  "language_info": {
   "codemirror_mode": {
    "name": "ipython",
    "version": 3
   },
   "file_extension": ".py",
   "mimetype": "text/x-python",
   "name": "python",
   "nbconvert_exporter": "python",
   "pygments_lexer": "ipython3",
   "version": "3.7.3"
  }
 },
 "nbformat": 4,
 "nbformat_minor": 2
}
