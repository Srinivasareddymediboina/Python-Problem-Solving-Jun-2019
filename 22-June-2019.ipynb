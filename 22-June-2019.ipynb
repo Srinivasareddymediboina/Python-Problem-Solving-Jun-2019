{
 "cells": [
  {
   "cell_type": "markdown",
   "metadata": {},
   "source": [
    "### Date : 22 June 2019\n",
    "#### Day Objectives\n",
    "- File Handling\n",
    "- Basic File Data Processing\n",
    "    - Accessing and Modifying File Data\n",
    "- Character Count\n",
    "- Line Count\n",
    "- File Size\n",
    "- Word Count\n",
    "- Unique Word Count"
   ]
  },
  {
   "cell_type": "code",
   "execution_count": 13,
   "metadata": {},
   "outputs": [
    {
     "name": "stdout",
     "output_type": "stream",
     "text": [
      "new dataaa i am adding to the file \n",
      "welcome \n",
      " data\n",
      "welcome\n",
      "data\n"
     ]
    }
   ],
   "source": [
    "#Read a File - File should exist(Read Mode)\n",
    "# Write to a File - Existing(append mode) or New File(Write mode)\n",
    "\n",
    "# Function to read entire file data into a single string - Character Processing\n",
    "def readFile(filepath):\n",
    "    with open(filepath, 'r') as f:\n",
    "        filedata = f.read() # Reads the entire file data into a string\n",
    "    return filedata\n",
    "\n",
    "filepath = 'DataFiles/data.txt'\n",
    "print(readFile(filepath))"
   ]
  },
  {
   "cell_type": "code",
   "execution_count": 36,
   "metadata": {},
   "outputs": [
    {
     "data": {
      "text/plain": [
       "['new dataaa i am adding to the file ', 'welcome ', ' data', 'welcome', 'data']"
      ]
     },
     "execution_count": 36,
     "metadata": {},
     "output_type": "execute_result"
    }
   ],
   "source": [
    "def readFileIntoList(filepath):\n",
    "    with open(filepath, 'r') as f:\n",
    "        filedata = f.read() # Reads the entire file data into a string\n",
    "        lines = filedata.split('\\n')\n",
    "    return lines\n",
    "\n",
    "filepath = 'DataFiles/data.txt'\n",
    "readFileIntoList(filepath)"
   ]
  },
  {
   "cell_type": "code",
   "execution_count": 19,
   "metadata": {},
   "outputs": [
    {
     "data": {
      "text/plain": [
       "5"
      ]
     },
     "execution_count": 19,
     "metadata": {},
     "output_type": "execute_result"
    }
   ],
   "source": [
    "def countLinesFile(filepath):\n",
    "    count = len(readFileIntoList(filepath))\n",
    "    return count\n",
    "\n",
    "countLinesFile(filepath)"
   ]
  },
  {
   "cell_type": "code",
   "execution_count": 48,
   "metadata": {},
   "outputs": [
    {
     "name": "stdout",
     "output_type": "stream",
     "text": [
      "5\n"
     ]
    }
   ],
   "source": [
    "print(countLinesFile(filepath))"
   ]
  },
  {
   "cell_type": "code",
   "execution_count": 34,
   "metadata": {},
   "outputs": [
    {
     "data": {
      "text/plain": [
       "['new',\n",
       " 'dataaa',\n",
       " 'i',\n",
       " 'am',\n",
       " 'adding',\n",
       " 'to',\n",
       " 'the',\n",
       " 'file',\n",
       " '',\n",
       " 'welcome',\n",
       " '',\n",
       " '',\n",
       " 'data',\n",
       " 'welcome',\n",
       " 'data']"
      ]
     },
     "execution_count": 34,
     "metadata": {},
     "output_type": "execute_result"
    }
   ],
   "source": [
    "import re\n",
    "\n",
    "def wordCountFile(filepath):\n",
    "    pattern = '[ \\n]'\n",
    "    filedata = readFile(filepath)\n",
    "    count = len(re.split(pattern, filedata))\n",
    "    return count\n",
    "def wordsFromFile(filepath):\n",
    "    pattern = '[ \\n]'\n",
    "    filedata = readFile(filepath)\n",
    "    allWordsList=re.split(pattern,filedata)\n",
    "    return allWordsList\n",
    "    \n",
    "wordsFromFile(filepath)"
   ]
  },
  {
   "cell_type": "code",
   "execution_count": 37,
   "metadata": {},
   "outputs": [
    {
     "name": "stdout",
     "output_type": "stream",
     "text": [
      "DataFiles/data.txt\n"
     ]
    },
    {
     "data": {
      "text/plain": [
       "['D', 'a', 't', 'F', 'i', 'l', 'e', 's', '/', 'd', '.', 'x']"
      ]
     },
     "execution_count": 37,
     "metadata": {},
     "output_type": "execute_result"
    }
   ],
   "source": [
    "# Function to get unique elements in a list\n",
    "\n",
    "# [1,2,3,3,2,1] -> [1,2,3]\n",
    "# Create a empty unique list [1,2,3]\n",
    "\n",
    "def uniqueData(li):\n",
    "    # Create an empty unique list\n",
    "    #filedata=readFile(filepath)\n",
    "    allwords=wordsFromFile(filepath)\n",
    "    unique = []    \n",
    "    # For every element in the main list, \n",
    "        # check if it exists in the unique list.\n",
    "        # If it does not exist, add it to unique list\n",
    "        # else if it already exists, move on to the next element in the main list   \n",
    "    for element in li:\n",
    "        if element not in unique:\n",
    "            unique.append(element)\n",
    "    return unique\n",
    "\n",
    "#li = [1,2,3,3,2,1]\n",
    "\n",
    "\n",
    "print(filepath)\n",
    "uniqueData(filepath)"
   ]
  },
  {
   "cell_type": "code",
   "execution_count": 42,
   "metadata": {},
   "outputs": [
    {
     "data": {
      "text/plain": [
       "{'new': 1,\n",
       " 'dataaa': 1,\n",
       " 'i': 1,\n",
       " 'am': 1,\n",
       " 'adding': 1,\n",
       " 'to': 1,\n",
       " 'the': 1,\n",
       " 'file': 1,\n",
       " 'welcome': 2,\n",
       " 'data': 2}"
      ]
     },
     "execution_count": 42,
     "metadata": {},
     "output_type": "execute_result"
    }
   ],
   "source": [
    "#Function to find the unique words in the \n",
    "def countUniqueWords(filepath):\n",
    "    with open(filepath,\"r\") as f:\n",
    "        filedata=f.read().split()\n",
    "    #return filedata\n",
    "\n",
    "    count={}\n",
    "    for i in filedata:\n",
    "        if i in count:\n",
    "            count[i]+=1\n",
    "        else:\n",
    "            count[i]=1\n",
    "    return count\n",
    "countUniqueWords(filepath)"
   ]
  },
  {
   "cell_type": "code",
   "execution_count": 40,
   "metadata": {},
   "outputs": [
    {
     "data": {
      "text/plain": [
       "{'new': 1,\n",
       " 'dataaa': 1,\n",
       " 'i': 1,\n",
       " 'am': 1,\n",
       " 'adding': 1,\n",
       " 'to': 1,\n",
       " 'the': 1,\n",
       " 'file': 1,\n",
       " '': 3,\n",
       " 'welcome': 2,\n",
       " 'data': 2}"
      ]
     },
     "execution_count": 40,
     "metadata": {},
     "output_type": "execute_result"
    }
   ],
   "source": [
    "#Function to print the frequency count of all words in a file\n",
    "# Frequency Distribution\n",
    "\n",
    "# Data in Line 1\n",
    "# Data in Line 2\n",
    "# Data in Line 3\n",
    "# O/P\n",
    "# Data : 3\n",
    "# in : 3\n",
    "# Line : 3\n",
    "# 1 : 1\n",
    "# 2 : 1\n",
    "# 3 : 1\n",
    "\n",
    "def FreqDistributionOfWords1(filepath):\n",
    "    \n",
    "    allWords=wordsFromFile(filepath)\n",
    "    uniquewords=uniqueData(filepath)\n",
    "    \n",
    "    for word in uniquewords:\n",
    "        count=allWords.count(word)\n",
    "        print(word,\":\",count)\n",
    "    return\n",
    "\n",
    "def FreqDistributionOfWords2(filepath):\n",
    "    allWords=wordsFromFile(filepath)\n",
    "    wordFrequency={}\n",
    "    \n",
    "    for word in allWords:\n",
    "        if word not in wordFrequency.keys():\n",
    "            wordFrequency[word]=1\n",
    "        else:\n",
    "            wordFrequency[word]+=1\n",
    "\n",
    "    return wordFrequency\n",
    "\n",
    "FreqDistributionOfWords2(filepath)\n",
    "    "
   ]
  },
  {
   "cell_type": "code",
   "execution_count": null,
   "metadata": {},
   "outputs": [],
   "source": [
    "#Contacts Application\n",
    "    #Add,Search,List,Modify Delete Contacts\n",
    "\n",
    "# Find and Replace Application\n",
    "    #Count the total number of occurances\n",
    "    #if word is existing\n",
    "    #Replace all occurances of a word with another word\n",
    "# Marks Analasis Application\n",
    "    #Generate marks file for n students\n",
    "    #Input: Marks text file - each line contains\n",
    "    #Generate a report with the following information\n",
    "        # Claa Average\n",
    "        # % of Students passed\n",
    "        # % of students failed\n",
    "        # % of students with distination\n",
    "    \n",
    "    "
   ]
  },
  {
   "cell_type": "code",
   "execution_count": 45,
   "metadata": {},
   "outputs": [],
   "source": [
    "#Function to gererate marks data for n students\n",
    "from random import randint\n",
    "def gernerateMarks(n,lb,ub):\n",
    "    with open(\"DataFiles/marks.txt\",\"a\") as f:\n",
    "        for i in range(0,n):\n",
    "            r=randint(lb,ub)\n",
    "            f.write(str(r)+\"\\n\")\n",
    "    return\n",
    "gernerateMarks(1000,25,100)\n",
    "                   "
   ]
  },
  {
   "cell_type": "code",
   "execution_count": null,
   "metadata": {},
   "outputs": [],
   "source": []
  }
 ],
 "metadata": {
  "kernelspec": {
   "display_name": "Python 3",
   "language": "python",
   "name": "python3"
  },
  "language_info": {
   "codemirror_mode": {
    "name": "ipython",
    "version": 3
   },
   "file_extension": ".py",
   "mimetype": "text/x-python",
   "name": "python",
   "nbconvert_exporter": "python",
   "pygments_lexer": "ipython3",
   "version": "3.7.3"
  }
 },
 "nbformat": 4,
 "nbformat_minor": 2
}
