{
 "cells": [
  {
   "cell_type": "code",
   "execution_count": 2,
   "metadata": {},
   "outputs": [
    {
     "name": "stdout",
     "output_type": "stream",
     "text": [
      "welcometomyworldaeiou\n"
     ]
    }
   ],
   "source": [
    "s=\"welcome to my world a e i o u  \"\n",
    "s1=\" \"\n",
    "s3=s.replace(s1,\"\")\n",
    "print(s3)"
   ]
  },
  {
   "cell_type": "code",
   "execution_count": 22,
   "metadata": {},
   "outputs": [
    {
     "name": "stdout",
     "output_type": "stream",
     "text": [
      "WELCOME TO ALL \n",
      "GOOD AFTERNOON OUR CLASS \n",
      "MULTISKILL TRAINIGS\n",
      "welcome to all \n",
      "good afternoon our class \n",
      "multiskill trainigs\n"
     ]
    }
   ],
   "source": [
    "s=\"\"\"welcome to all \n",
    "good afternoon our class \n",
    "multiskill trainigs\"\"\"\n",
    "s1=s.upper()\n",
    "print(s1)\n",
    "s3=s1.lower()\n",
    "print(s3)\n",
    "\n"
   ]
  },
  {
   "cell_type": "code",
   "execution_count": 64,
   "metadata": {},
   "outputs": [
    {
     "name": "stdout",
     "output_type": "stream",
     "text": [
      "6\n"
     ]
    },
    {
     "data": {
      "text/plain": [
       "720"
      ]
     },
     "execution_count": 64,
     "metadata": {},
     "output_type": "execute_result"
    }
   ],
   "source": [
    "n=int(input())\n",
    "def s(n):\n",
    "    \n",
    "    def fact(n):\n",
    "        fact=1\n",
    "        for i in range(1,n+1):\n",
    "            fact=fact*i\n",
    "        return fact\n",
    "\n",
    "    if n%2==0:\n",
    "        return fact(n)\n",
    "    return \"not\"\n",
    "    #n=int(input())    \n",
    "s(n)  "
   ]
  },
  {
   "cell_type": "code",
   "execution_count": 37,
   "metadata": {},
   "outputs": [
    {
     "name": "stdout",
     "output_type": "stream",
     "text": [
      "10\n",
      "55\n"
     ]
    }
   ],
   "source": [
    "s=int(input())\n",
    "s1=[]\n",
    "for i in range(0,s+1):\n",
    "    s1.append(i)\n",
    "print(sum(s1))"
   ]
  },
  {
   "cell_type": "code",
   "execution_count": 76,
   "metadata": {},
   "outputs": [
    {
     "name": "stdout",
     "output_type": "stream",
     "text": [
      "200 500\n",
      "211 223 227 229 233 239 241 251 257 263 269 271 277 281 283 293 307 311 313 317 331 337 347 349 353 359 367 373 379 383 389 397 401 409 419 421 431 433 439 443 449 457 461 463 467 479 487 491 499 "
     ]
    }
   ],
   "source": [
    "n=int(input()\n",
    "def Prime(n):\n",
    "    for i in range(lb,ub):\n",
    "        if i>0:\n",
    "            \n",
    "            for j in range(2,i):\n",
    "                if i%j==0:\n",
    "                    break\n",
    "            else:\n",
    "                print(i,end=\" \")\n",
    "Prime(n)\n",
    "\n",
    "\n",
    "    "
   ]
  },
  {
   "cell_type": "code",
   "execution_count": 31,
   "metadata": {},
   "outputs": [
    {
     "name": "stdout",
     "output_type": "stream",
     "text": [
      "None\n"
     ]
    },
    {
     "data": {
      "text/plain": [
       "'for i in range(s):\\n    i[1\\n    '"
      ]
     },
     "execution_count": 31,
     "metadata": {},
     "output_type": "execute_result"
    }
   ],
   "source": [
    "n=\"\"\"uaghl i ihpdfkbvas hjvad vihqpfbad\n",
    "fkghljqdng fkikjgfnj HIGBF HIGKBSGFBHSG \n",
    "GFHKBGO KIJWHRF SIUWRGJ \n",
    "JBFIJWRBLS WJFBLNW\n",
    "VBWKVJ  IVHJBS3423524JH36398693\"\"\"\n",
    "\n",
    "for i in n:\n",
    "    i.\n"
   ]
  },
  {
   "cell_type": "markdown",
   "metadata": {},
   "source": [
    "- ***9.Find the average of unique three digit numbers***\n",
    "- ***i/p:1 2 10 100 500 50 100 6 7***\n",
    "- ***o/p300***\n",
    "\n"
   ]
  },
  {
   "cell_type": "code",
   "execution_count": 20,
   "metadata": {},
   "outputs": [
    {
     "name": "stdout",
     "output_type": "stream",
     "text": [
      "12 34 511 511 12 123\n",
      "317.0\n"
     ]
    }
   ],
   "source": [
    "l=list(map(int,input().split()))\n",
    "s=[]\n",
    "un=[]\n",
    "for i in l:\n",
    "    if i not in un:\n",
    "        un.append(i)\n",
    "for j in un:\n",
    "    if len(str(j))==3:\n",
    "        s.append(j)\n",
    "        \n",
    "#print(un)\n",
    "print(sum(s)/len(s))"
   ]
  },
  {
   "cell_type": "code",
   "execution_count": 2,
   "metadata": {},
   "outputs": [
    {
     "name": "stdout",
     "output_type": "stream",
     "text": [
      "['\\x00', '\\x01', '\\x02', '\\x03', '\\x04', '\\x05', '\\x06', '\\x07', '\\x08', '\\t', '\\n', '\\x0b', '\\x0c', '\\r', '\\x0e', '\\x0f', '\\x10', '\\x11', '\\x12', '\\x13', '\\x14', '\\x15', '\\x16', '\\x17', '\\x18', '\\x19', '\\x1a', '\\x1b', '\\x1c', '\\x1d', '\\x1e', '\\x1f', ' ', '!', '\"', '#', '$', '%', '&', \"'\", '(', ')', '*', '+', ',', '-', '.', '/', '9', ':', ';', '<', '=', '>', '?', '@', '[', '\\\\', ']', '^', '_', '`', 'z', '{', '|', '}', '~', '\\x7f']\n"
     ]
    }
   ],
   "source": [
    "Cap=[]\n",
    "Sma=[]\n",
    "Dig=[]\n",
    "Ex=[]\n",
    "for i in range(0,128):\n",
    "    if i in range(65,91):\n",
    "        Cap.append(chr(i))\n",
    "    elif i in range(97,122):\n",
    "        Sma.append(chr(i))\n",
    "    elif i in range(48,57):\n",
    "        Dig.append(chr(i))\n",
    "    else:\n",
    "        Ex.append(chr(i))\n",
    "        \n",
    "#print(Cap)\n",
    "#print(Sma)\n",
    "#print(Dig)\n",
    "print(Ex)\n",
    "        \n",
    "            "
   ]
  },
  {
   "cell_type": "code",
   "execution_count": 6,
   "metadata": {},
   "outputs": [
    {
     "data": {
      "text/plain": [
       "1"
      ]
     },
     "execution_count": 6,
     "metadata": {},
     "output_type": "execute_result"
    }
   ],
   "source": [
    "# Function to identify the element with highest frequency in a list\n",
    "# If many elements have the have the highest frequency, return the smallest\n",
    "# highestFrequencyElement([1,2,3,9,8,7,3,4,2,1]) -> 1\n",
    "def highestFrequencyElement(li):\n",
    "    #Extracting unique elements with frequencies\n",
    "    unique = {}\n",
    "    for n in li:\n",
    "        if n in unique:\n",
    "            unique[n] += 1\n",
    "        else:\n",
    "            unique[n] = 1\n",
    "    # unique = {1:2, 2:2, 3:2, 9:1, 8:1, 7:1, 4:1}\n",
    "    maxfreq = max(unique.values())\n",
    "    \n",
    "    #Extract all keys with maxfreq in a list\n",
    "    maxfreqkeys = []\n",
    "    for item in unique.items():\n",
    "        #item -> (key, value)\n",
    "        # item[1]\n",
    "        if item[1] == maxfreq:\n",
    "            maxfreqkeys.append(item[0])\n",
    "    \n",
    "    return min(maxfreqkeys)\n",
    "\n",
    "highestFrequencyElement([1,2,3,9,8,7,3,4,2,1])"
   ]
  },
  {
   "cell_type": "code",
   "execution_count": 7,
   "metadata": {},
   "outputs": [
    {
     "name": "stdout",
     "output_type": "stream",
     "text": [
      "441.3333333333333\n"
     ]
    }
   ],
   "source": [
    "li=[1,2,812,9,812,112,112,400,2,1]\n",
    "un= []\n",
    "s1=[]\n",
    "for n in li:\n",
    "    if n not in un:\n",
    "        un.append(n)\n",
    "#print(un)\n",
    "for j in un:\n",
    "    if len(str(j))==3:\n",
    "        s1.append(j)\n",
    "print(sum(s1)/len(s1))\n"
   ]
  },
  {
   "cell_type": "code",
   "execution_count": 5,
   "metadata": {},
   "outputs": [
    {
     "name": "stdout",
     "output_type": "stream",
     "text": [
      "srinivas\n",
      "srii\n"
     ]
    }
   ],
   "source": [
    "words=[\"srinivas\",\"nivas\",\"srii\"]\n",
    "for i in words:\n",
    "    if len(i)!=len(set(i)):\n",
    "        print(i)"
   ]
  },
  {
   "cell_type": "code",
   "execution_count": null,
   "metadata": {},
   "outputs": [],
   "source": []
  },
  {
   "cell_type": "code",
   "execution_count": null,
   "metadata": {},
   "outputs": [],
   "source": []
  },
  {
   "cell_type": "code",
   "execution_count": null,
   "metadata": {},
   "outputs": [],
   "source": []
  },
  {
   "cell_type": "code",
   "execution_count": null,
   "metadata": {},
   "outputs": [],
   "source": []
  },
  {
   "cell_type": "code",
   "execution_count": null,
   "metadata": {},
   "outputs": [],
   "source": []
  }
 ],
 "metadata": {
  "kernelspec": {
   "display_name": "Python 3",
   "language": "python",
   "name": "python3"
  },
  "language_info": {
   "codemirror_mode": {
    "name": "ipython",
    "version": 3
   },
   "file_extension": ".py",
   "mimetype": "text/x-python",
   "name": "python",
   "nbconvert_exporter": "python",
   "pygments_lexer": "ipython3",
   "version": "3.7.3"
  }
 },
 "nbformat": 4,
 "nbformat_minor": 2
}
