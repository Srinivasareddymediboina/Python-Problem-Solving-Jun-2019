{
 "cells": [
  {
   "cell_type": "code",
   "execution_count": 5,
   "metadata": {},
   "outputs": [
    {
     "name": "stdout",
     "output_type": "stream",
     "text": [
      "9\n",
      "2 3 5 7 "
     ]
    }
   ],
   "source": [
    "#Prime NUmbers\n",
    "n=int(input())\n",
    "def isPrime(n):\n",
    "    for i in range(2,n+1):\n",
    "        s=0\n",
    "        for r in range(2,i//2+1):\n",
    "            if i%r==0:\n",
    "                s+=1\n",
    "        if s<=0:\n",
    "            print(i,end=\" \")\n",
    "isPrime(n)"
   ]
  },
  {
   "cell_type": "code",
   "execution_count": 2,
   "metadata": {},
   "outputs": [
    {
     "name": "stdout",
     "output_type": "stream",
     "text": [
      "10\n",
      "NO\n"
     ]
    }
   ],
   "source": [
    "#Palindrome\n",
    "s=input()\n",
    "def Palindrome(s):\n",
    "    if s==s[::-1]:\n",
    "        print(\"YES\")\n",
    "    else:\n",
    "        print(\"NO\")\n",
    "Palindrome(s)"
   ]
  },
  {
   "cell_type": "code",
   "execution_count": null,
   "metadata": {},
   "outputs": [],
   "source": [
    "#Count Divisors\n",
    "def countDiv(n,n1,n2):\n",
    "    count=0\n",
    "    for i in range(n,n1+1):\n",
    "        if i%n2==0:\n",
    "            count=count+1\n",
    "    print(count)\n",
    "    return\n",
    " \n",
    "s=input()\n",
    "s=s.split()\n",
    " \n",
    "n=int(s[0])\n",
    "n1=int(s[1])\n",
    "n2=int(s[2])\n",
    "    \n",
    "countDiv(n,n1,n2)"
   ]
  },
  {
   "cell_type": "code",
   "execution_count": 1,
   "metadata": {},
   "outputs": [
    {
     "name": "stdout",
     "output_type": "stream",
     "text": [
      "5\n",
      "120\n"
     ]
    }
   ],
   "source": [
    "#Factorial\n",
    "N=int(input())\n",
    "def factorial(N):\n",
    "    fact = 1\n",
    "    for i in range(2,N+1):\n",
    "        fact *= i\n",
    "    print(fact)\n",
    "factorial(N)"
   ]
  },
  {
   "cell_type": "code",
   "execution_count": 8,
   "metadata": {},
   "outputs": [
    {
     "name": "stdout",
     "output_type": "stream",
     "text": [
      "jbkj hkvkbjJHV JYHKGJBN\n"
     ]
    },
    {
     "data": {
      "text/plain": [
       "' JBKJ HKVKBJjhv jyhkgjbn'"
      ]
     },
     "execution_count": 8,
     "metadata": {},
     "output_type": "execute_result"
    }
   ],
   "source": [
    "#Toggle String\n",
    "def lowerandupper(name):\n",
    "    name=input()\n",
    "    words=\" \"\n",
    "    for word in name:\n",
    "        if word.isupper()==True:\n",
    "            words+=word.lower()\n",
    "        else:\n",
    "            words+=word.upper()\n",
    "    return words\n",
    "lowerandupper(name)"
   ]
  },
  {
   "cell_type": "code",
   "execution_count": 2,
   "metadata": {},
   "outputs": [
    {
     "name": "stdout",
     "output_type": "stream",
     "text": [
      "abcd\n",
      "10\n"
     ]
    }
   ],
   "source": [
    "#Char Sum\n",
    "name=input()\n",
    "def charSum(name):\n",
    "    sum=0\n",
    "    for i in name:\n",
    "        s=ord(i)-96\n",
    "        sum=sum+s\n",
    "        \n",
    "    print(sum)\n",
    "charSum(name)"
   ]
  },
  {
   "cell_type": "code",
   "execution_count": null,
   "metadata": {},
   "outputs": [],
   "source": [
    "s=\"1 44 2 14\"\n",
    "def minuteDiff(s):\n",
    "    s=s.split()\n",
    "    sh=int(s[0])\n",
    "    sm=int(s[1])\n",
    "    eh=int(s[2])\n",
    "    em=int(s[3])\n",
    "    startminutes=(sh*60)+sh\n",
    "    endminutes=(eh*60)+em\n",
    "    return endminutes-startminutes\n",
    "def outputTimeFormat(minutes):\n",
    "    #convert minutes to HH MM\n",
    "    hh=minutes//60\n",
    "    mm=minutes%60\n",
    "    print(hh,mm)\n",
    "    return\n",
    "n=int(input())\n",
    "for i in range(0,n):\n",
    "    s=input()\n",
    "    \n",
    "    \n",
    "minutes=minuteDiff(s)\n",
    "outputTimeFormat(minutes)"
   ]
  },
  {
   "cell_type": "code",
   "execution_count": 5,
   "metadata": {},
   "outputs": [
    {
     "name": "stdout",
     "output_type": "stream",
     "text": [
      "1\n",
      "sri ndflk\n",
      "NO\n"
     ]
    }
   ],
   "source": [
    "#Two Strings\n",
    "#----------------\n",
    "def TwoStrings(n):\n",
    "    for i in range(1,n+1):\n",
    "        \n",
    "        s=input()\n",
    "        s=s.split()\n",
    "        s1=s[0]\n",
    "        s2=s[1]\n",
    "        if (sorted(s1)==sorted(s2)):\n",
    "            print(\"YES\")\n",
    "        else:\n",
    "            print(\"NO\")\n",
    "            \n",
    "n=int(input())\n",
    "TwoStrings(n)"
   ]
  },
  {
   "cell_type": "code",
   "execution_count": 10,
   "metadata": {},
   "outputs": [
    {
     "name": "stdout",
     "output_type": "stream",
     "text": [
      "28\n",
      "YES\n"
     ]
    }
   ],
   "source": [
    "def factorsList(n):\n",
    "    sum=0\n",
    "    for i in range(1,n):\n",
    "        \n",
    "        if n%i==0:\n",
    "            sum=sum+i\n",
    "            #print(\"YES\")\n",
    "    if sum==n:\n",
    "        print(\"YES\")\n",
    "    else:\n",
    "        print(\"NO\")\n",
    "    return\n",
    "n=int(input())\n",
    "factorsList(n)\n",
    "\n",
    "    "
   ]
  },
  {
   "cell_type": "code",
   "execution_count": 19,
   "metadata": {},
   "outputs": [
    {
     "name": "stdout",
     "output_type": "stream",
     "text": [
      "6\n"
     ]
    },
    {
     "data": {
      "text/plain": [
       "4"
      ]
     },
     "execution_count": 19,
     "metadata": {},
     "output_type": "execute_result"
    }
   ],
   "source": [
    "n=int(input())\n",
    "def s(n):\n",
    "    a=[]\n",
    "    a1=[]\n",
    "    for i in range(n,1,-1):\n",
    "        s=n%i\n",
    "        a.append(s)\n",
    "        a1.append(i)\n",
    "    \n",
    "    return (a1[max(a)])\n",
    "s(n)\n",
    "    \n",
    "        \n",
    "\n",
    "\n",
    "        \n",
    "        "
   ]
  },
  {
   "cell_type": "code",
   "execution_count": null,
   "metadata": {},
   "outputs": [],
   "source": []
  }
 ],
 "metadata": {
  "kernelspec": {
   "display_name": "Python 3",
   "language": "python",
   "name": "python3"
  },
  "language_info": {
   "codemirror_mode": {
    "name": "ipython",
    "version": 3
   },
   "file_extension": ".py",
   "mimetype": "text/x-python",
   "name": "python",
   "nbconvert_exporter": "python",
   "pygments_lexer": "ipython3",
   "version": "3.7.3"
  }
 },
 "nbformat": 4,
 "nbformat_minor": 2
}
