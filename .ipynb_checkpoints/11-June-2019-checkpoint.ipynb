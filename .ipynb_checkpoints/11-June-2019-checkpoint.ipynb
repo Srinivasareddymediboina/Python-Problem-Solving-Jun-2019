{
 "cells": [
  {
   "cell_type": "markdown",
   "metadata": {},
   "source": [
    " # Notebook Basics\n",
    " * *srinivas* <br>\n",
    " * **Bold**\n",
    " * ***IB***\n",
    " * IIT NUZIVD\n",
    "     * VISWANTH\n",
    "     * REDDY\n",
    "     \n",
    "     \n",
    " 1. Ordered list1<br>\n",
    " 2. Ordered list item2\n",
    " \n",
    " \n",
    " **JUPYTER**\n",
    " <img src=\"logo.png\" style=\"float:center\">\n",
    " \n",
    " \n",
    " I get 10 times more traffic from [Google](http://google.com/ \"Google\")\n",
    "than from [Yahoo](http://search.yahoo.com/ \"Yahoo Search\") or\n",
    "[MSN](http://search.msn.com/ \"MSN Search\")\n",
    "\n",
    "<nivas.apssdc@gmail.com>\n",
    "\n",
    "`a=input(\"enter the a value\")\n",
    "b=input(\"enter the b value\")\n",
    "c=a+b\n",
    "print(\"the sum of A and B is\",c)`"
   ]
  },
  {
   "cell_type": "markdown",
   "metadata": {},
   "source": [
    "# Python Basics\n",
    "##### Python version 3.7\n",
    "\n",
    "- Scripting \n",
    "- Object Oriented\n",
    "- Functional"
   ]
  },
  {
   "cell_type": "code",
   "execution_count": null,
   "metadata": {},
   "outputs": [],
   "source": [
    "print(\"the comand\", \"!\", end=\"| |\")\n",
    "print(\"hello all\")\n",
    "      \n",
    "      \n",
    "      "
   ]
  },
  {
   "cell_type": "markdown",
   "metadata": {},
   "source": [
    "### Assignment\n"
   ]
  },
  {
   "cell_type": "code",
   "execution_count": null,
   "metadata": {},
   "outputs": [],
   "source": [
    "n1=123456 #Single variable Assigment\n",
    "n2=n3=n4=n1 # Multi variable assigment of the same value\n",
    "\n",
    "\n",
    "a,b,c=123,1243,7887#Multi variable assigment\n",
    "\n",
    "print(a,b,c)"
   ]
  },
  {
   "cell_type": "code",
   "execution_count": null,
   "metadata": {},
   "outputs": [],
   "source": []
  },
  {
   "cell_type": "markdown",
   "metadata": {},
   "source": [
    "### Data Types & Conversions\n",
    "- int\n",
    "- float\n",
    "- string\n",
    "- double"
   ]
  },
  {
   "cell_type": "code",
   "execution_count": 5,
   "metadata": {},
   "outputs": [
    {
     "data": {
      "text/plain": [
       "12.0"
      ]
     },
     "execution_count": 5,
     "metadata": {},
     "output_type": "execute_result"
    }
   ],
   "source": [
    "type(34)\n",
    "s1=\"Pyhton\"\n",
    "\n",
    "f1=12.2324\n",
    "type(f1)\n",
    "float(str(int(f1)))"
   ]
  },
  {
   "cell_type": "markdown",
   "metadata": {},
   "source": [
    "### Arthematic Operations \n",
    "\n",
    "- +\n",
    "- -\n",
    "- *\n",
    "- /\n",
    "- %\n",
    "- **"
   ]
  },
  {
   "cell_type": "code",
   "execution_count": 16,
   "metadata": {},
   "outputs": [
    {
     "data": {
      "text/plain": [
       "82"
      ]
     },
     "execution_count": 16,
     "metadata": {},
     "output_type": "execute_result"
    }
   ],
   "source": [
    "atoms"
   ]
  },
  {
   "cell_type": "markdown",
   "metadata": {},
   "source": [
    "### Conditionals"
   ]
  },
  {
   "cell_type": "code",
   "execution_count": 15,
   "metadata": {},
   "outputs": [
    {
     "name": "stdout",
     "output_type": "stream",
     "text": [
      "this condition is true\n"
     ]
    }
   ],
   "source": [
    "if atoms < 10**9:\n",
    "    print(\"this condition is true\")\n",
    "else:\n",
    "    print(\"this condition is fasle\")\n",
    "    \n",
    "\n"
   ]
  },
  {
   "cell_type": "code",
   "execution_count": 19,
   "metadata": {},
   "outputs": [
    {
     "name": "stdout",
     "output_type": "stream",
     "text": [
      "Odd\n"
     ]
    }
   ],
   "source": [
    "#Check if a number is Even or Odd\n",
    "n=123\n",
    "if n%2==0:\n",
    "    print(\"Even\")\n",
    "else:\n",
    "    print(\"Odd\")"
   ]
  },
  {
   "cell_type": "code",
   "execution_count": 21,
   "metadata": {},
   "outputs": [
    {
     "name": "stdout",
     "output_type": "stream",
     "text": [
      "enter the first number23\n",
      "enter the second number43\n",
      "enter the thrid number876\n",
      "876 is the greatest number\n"
     ]
    }
   ],
   "source": [
    "#Check the greatest number of 3 numbers\n",
    "\n",
    "n1=int(input(\"enter the first number\"))\n",
    "n2=int(input(\"enter the second number\"))\n",
    "n3=int(input(\"enter the thrid number\"))\n",
    "\n",
    "if n1>n2 and n1>n3:\n",
    "    print(\"n1\",\"is the grestest number\")\n",
    "elif n2>n3:\n",
    "    print(n2,\"is the greatest number\")\n",
    "else:\n",
    "    print(n3,\"is the greatest number\")"
   ]
  },
  {
   "cell_type": "code",
   "execution_count": 5,
   "metadata": {},
   "outputs": [
    {
     "name": "stdout",
     "output_type": "stream",
     "text": [
      "enter the first number2020\n",
      "2020 the number is a leap\n"
     ]
    }
   ],
   "source": [
    "n1=int(input(\"enter the first number\"))\n",
    "if n1%400==0 or n1%100!=0 and n1%4==0:\n",
    "    print(n1,\"the number is a leap\")\n",
    "else:\n",
    "    print(n1,\"not a leap year\")"
   ]
  },
  {
   "cell_type": "code",
   "execution_count": 4,
   "metadata": {},
   "outputs": [
    {
     "ename": "SyntaxError",
     "evalue": "invalid syntax (<ipython-input-4-14adc9f0f9e4>, line 3)",
     "output_type": "error",
     "traceback": [
      "\u001b[1;36m  File \u001b[1;32m\"<ipython-input-4-14adc9f0f9e4>\"\u001b[1;36m, line \u001b[1;32m3\u001b[0m\n\u001b[1;33m    n3=input(\"enter the third number\"))\u001b[0m\n\u001b[1;37m                                      ^\u001b[0m\n\u001b[1;31mSyntaxError\u001b[0m\u001b[1;31m:\u001b[0m invalid syntax\n"
     ]
    }
   ],
   "source": [
    "n1=int(input(\"enter the first number\"))\n",
    "n2=int(input(\"enter the second number\"))\n",
    "n3=input(\"enter the third number\"))\n",
    "if n1>=n2 and n1<=n3:\n",
    "    print(n1,\" \")\n",
    "    "
   ]
  },
  {
   "cell_type": "code",
   "execution_count": 26,
   "metadata": {},
   "outputs": [
    {
     "name": "stdout",
     "output_type": "stream",
     "text": [
      "enter the first number23435\n",
      "5\n"
     ]
    }
   ],
   "source": [
    "#calculate the number of a digits in a number\n",
    "n1=input(\"enter the first number\")\n",
    "print(len(n1))"
   ]
  },
  {
   "cell_type": "code",
   "execution_count": 2,
   "metadata": {},
   "outputs": [
    {
     "name": "stdout",
     "output_type": "stream",
     "text": [
      "enter the first number200\n",
      "200 is multible\n"
     ]
    }
   ],
   "source": [
    "#Check if a number is a multible of 10\n",
    "\n",
    "n1=int(input(\"enter the first number\"))\n",
    "if n1%10==0:\n",
    "    print(n1,\"is multible\")\n",
    "else:\n",
    "    print(n1,\" is not multible of 10 \")"
   ]
  },
  {
   "cell_type": "code",
   "execution_count": null,
   "metadata": {},
   "outputs": [],
   "source": [
    "# Check if a number is a factor of 1000\n",
    "n1=int(input(\"enter the first number\"))\n",
    "if 1000%n1==0:\n",
    "    print(n1,\"is multible\")\n",
    "else:\n",
    "    print(n1,\" is not multible of 10 \")"
   ]
  },
  {
   "cell_type": "code",
   "execution_count": 22,
   "metadata": {},
   "outputs": [
    {
     "name": "stdout",
     "output_type": "stream",
     "text": [
      "enter the stringsri\n",
      "sri  =! 423\n"
     ]
    }
   ],
   "source": [
    "#Check if given string is equal to a number\n",
    "n1=input(\"enter the string\")\n",
    "s1=423\n",
    "if str(n1)==s1:\n",
    "    print(n1,\" is =\",s1)\n",
    "else:\n",
    "    print(n1,\" =!\",s1)\n"
   ]
  },
  {
   "cell_type": "code",
   "execution_count": 20,
   "metadata": {},
   "outputs": [
    {
     "name": "stdout",
     "output_type": "stream",
     "text": [
      "11.090536506409418\n"
     ]
    }
   ],
   "source": [
    "#Calculate the square root of a number without functions\n",
    "n1=123\n",
    "s=n1**0.5\n",
    "print(s)"
   ]
  },
  {
   "cell_type": "code",
   "execution_count": 17,
   "metadata": {},
   "outputs": [
    {
     "name": "stdout",
     "output_type": "stream",
     "text": [
      " 2016\n",
      "31622400000000000\n"
     ]
    }
   ],
   "source": [
    "#Calculate the Leap year in nano seconds\n",
    "year = int(input(\" \"))\n",
    "if year%400==0 or (year%100!=0 and year%4==0):\n",
    "    print(366*24*60*60*(10**9))\n",
    "else:\n",
    "    print(365*24*60*60*(10**9))"
   ]
  },
  {
   "cell_type": "code",
   "execution_count": null,
   "metadata": {},
   "outputs": [],
   "source": []
  },
  {
   "cell_type": "code",
   "execution_count": null,
   "metadata": {},
   "outputs": [],
   "source": []
  }
 ],
 "metadata": {
  "kernelspec": {
   "display_name": "Python 3",
   "language": "python",
   "name": "python3"
  },
  "language_info": {
   "codemirror_mode": {
    "name": "ipython",
    "version": 3
   },
   "file_extension": ".py",
   "mimetype": "text/x-python",
   "name": "python",
   "nbconvert_exporter": "python",
   "pygments_lexer": "ipython3",
   "version": "3.7.3"
  }
 },
 "nbformat": 4,
 "nbformat_minor": 2
}
