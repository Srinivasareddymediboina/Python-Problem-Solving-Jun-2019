{
 "cells": [
  {
   "cell_type": "markdown",
   "metadata": {},
   "source": [
    "### Problem with play with numbers"
   ]
  },
  {
   "cell_type": "code",
   "execution_count": null,
   "metadata": {},
   "outputs": [
    {
     "name": "stdout",
     "output_type": "stream",
     "text": [
      "500000 500000\n"
     ]
    }
   ],
   "source": [
    "n=input().split()\n",
    "\n",
    "n[0],n[1]=int(n[0]),int(n[1])\n",
    "\n",
    "a=input().split()\n",
    "\n",
    "sum=[]\n",
    "\n",
    "for i in range(0,n[0]):\n",
    "    if i==0:\n",
    "        sum.append(int(a[i]))\n",
    "    else:\n",
    "        sum.append(int(sum[i-1])+int(a[i]))\n",
    "del a\n",
    "        \n",
    "for i in range(0,n[1]):\n",
    "    inq=input().split()\n",
    "    i=int(inq[0])\n",
    "    j=int(inq[1])\n",
    "    if i>1:\n",
    "        print((sum[j-1]-sum[i-2])//(j-i+1))\n",
    "    else:\n",
    "        print(sum[j-1]//(j-i+1))"
   ]
  },
  {
   "cell_type": "markdown",
   "metadata": {},
   "source": [
    "### Special Numbers Exam Problem"
   ]
  },
  {
   "cell_type": "code",
   "execution_count": null,
   "metadata": {},
   "outputs": [],
   "source": [
    "#Fundtion to determine if a number is special number or not\n",
    "def isSpecialNumber(n,p):\n",
    "    if numberOfPrimeFactors(n)>=p:\n",
    "        return True\n",
    "    return False\n",
    "\n",
    "    \n",
    "\n",
    "#Function to check if numner is prime\n",
    "def isPrime(n):\n",
    "    flag=1\n",
    "    if n==2:\n",
    "        return True\n",
    "    for i in range(2,n//2+1):\n",
    "        if n%i==0:\n",
    "            flag=0\n",
    "            return False\n",
    "    if flag==1:\n",
    "        return True            \n",
    "        \n",
    "\n",
    "#Function to determine number of prime factors for a given number\n",
    "\n",
    "def numberOfPrimeFactors(n):\n",
    "    if isPrime(n):\n",
    "        return 1\n",
    "    count=0\n",
    "    for i in range(2,n//2+1):\n",
    "        if isPrime(i) and n%i==0:\n",
    "            count+=1\n",
    "    return count\n",
    "#numberOfPrimeFactors(30)\n",
    "\n",
    "#isSpecialNumber(1031121312,2)\n",
    "\n",
    "def Solution2():\n",
    "    p=int(input())\n",
    "    t=int(input())\n",
    "    for i in range(0,t):\n",
    "        n=int(input())\n",
    "        if isSpecialNumber(n,p):\n",
    "            print(\"YES\")\n",
    "        else:\n",
    "            print(\"NO\")\n",
    "isSpecialNumber(30,2)\n"
   ]
  },
  {
   "cell_type": "markdown",
   "metadata": {},
   "source": [
    "### Problem Highest Remainder Exam Problem"
   ]
  },
  {
   "cell_type": "code",
   "execution_count": null,
   "metadata": {},
   "outputs": [],
   "source": [
    "#Find the Max Value\n",
    "#Exam Problem\n",
    "n=int(input())\n",
    "def findTheMaxValue(n):\n",
    "    a=[]\n",
    "    a1=[]\n",
    "    for i in range(n,1,-1):\n",
    "        s=n%i\n",
    "        a.append(s)\n",
    "        a1.append(i)\n",
    "    \n",
    "    return (a1[max(a)])\n",
    "findTheMaxValue(n)"
   ]
  },
  {
   "cell_type": "markdown",
   "metadata": {},
   "source": [
    "### Contacts Application\n",
    "- Add Contact\n",
    "- Search for contact\n",
    "- List all Contacts\n",
    "- Modify Contacts\n",
    "- Remove Contacts\n",
    "- Import Contacts"
   ]
  },
  {
   "cell_type": "code",
   "execution_count": 2,
   "metadata": {},
   "outputs": [
    {
     "name": "stdout",
     "output_type": "stream",
     "text": [
      "contact added\n"
     ]
    }
   ],
   "source": [
    "contacts={}\n",
    "def addContact(name,phone):\n",
    "    if name not in contacts:\n",
    "        contacts[name]=phone\n",
    "        print(\"contact added\")\n",
    "    else:\n",
    "        print(\"Contact %s already Exits\" % name)\n",
    "        \n",
    "    return\n",
    "addContact(\"srinivas\",\"9876543212\")\n",
    "\n"
   ]
  },
  {
   "cell_type": "code",
   "execution_count": 7,
   "metadata": {},
   "outputs": [
    {
     "data": {
      "text/plain": [
       "{'srinivas': '9876543212'}"
      ]
     },
     "execution_count": 7,
     "metadata": {},
     "output_type": "execute_result"
    }
   ],
   "source": [
    "contacts"
   ]
  },
  {
   "cell_type": "code",
   "execution_count": 8,
   "metadata": {},
   "outputs": [
    {
     "name": "stdout",
     "output_type": "stream",
     "text": [
      "name does not exits\n"
     ]
    }
   ],
   "source": [
    "def SearchContacts(name):\n",
    "    if name in contacts:\n",
    "        print(name,\":\",contacts[name])\n",
    "    else:\n",
    "        print(\"%s does not exits\" % name)\n",
    "    return\n",
    "\n",
    "SearchContacts(\"name\")"
   ]
  },
  {
   "cell_type": "code",
   "execution_count": 30,
   "metadata": {},
   "outputs": [
    {
     "name": "stdout",
     "output_type": "stream",
     "text": [
      "{'name3': 8765354679, 'sri': 9746197938, 'viswanth': 9876578312, 'venkata': 8765354679}\n"
     ]
    }
   ],
   "source": [
    "def listAllContacts():\n",
    "    if(contacts):\n",
    "        print(contacts)\n",
    "listAllContacts()\n",
    "    \n",
    "    "
   ]
  },
  {
   "cell_type": "code",
   "execution_count": 4,
   "metadata": {},
   "outputs": [
    {
     "name": "stdout",
     "output_type": "stream",
     "text": [
      "enter the number999999999999\n",
      "Successfully modify 999999999999 number\n"
     ]
    }
   ],
   "source": [
    "def Modify(name):\n",
    "    if name in contacts:\n",
    "        phone=int(input(\"enter the number\"))\n",
    "        contacts[name]=phone\n",
    "        print(\"Successfully modify %s number\" %phone)\n",
    "    else:\n",
    "        print(\"does not exits %s \"%name)\n",
    "Modify(\"srinivas\")\n"
   ]
  },
  {
   "cell_type": "code",
   "execution_count": 29,
   "metadata": {},
   "outputs": [
    {
     "name": "stdout",
     "output_type": "stream",
     "text": [
      "name2 No Contact\n"
     ]
    }
   ],
   "source": [
    "def RemoveContact(name):\n",
    "    if name in contacts:\n",
    "        contacts.pop(name)\n",
    "        print(\"%s contact deleted sucessfully\"%name)\n",
    "    else:\n",
    "        print(\"%s No Contact\"%name)\n",
    "RemoveContact(\"name2\")\n",
    "        "
   ]
  },
  {
   "cell_type": "code",
   "execution_count": 27,
   "metadata": {},
   "outputs": [
    {
     "data": {
      "text/plain": [
       "{'name2': 9876578312,\n",
       " 'name3': 8765354679,\n",
       " 'sri': 9746197938,\n",
       " 'viswanth': 9876578312,\n",
       " 'venkata': 8765354679}"
      ]
     },
     "execution_count": 27,
     "metadata": {},
     "output_type": "execute_result"
    }
   ],
   "source": [
    "contacts"
   ]
  },
  {
   "cell_type": "code",
   "execution_count": 26,
   "metadata": {},
   "outputs": [
    {
     "name": "stdout",
     "output_type": "stream",
     "text": [
      "3 contacts added \n"
     ]
    }
   ],
   "source": [
    "def importContacts(newContacts):\n",
    "    contacts.update(newContacts)\n",
    "    print(len(newContacts.keys()),\"contacts added \")\n",
    "    return\n",
    "newContacts={\"sri\":9746197938,\"viswanth\":9876578312,\"venkata\":8765354679}\n",
    "importContacts(newContacts)"
   ]
  },
  {
   "cell_type": "markdown",
   "metadata": {},
   "source": [
    "### Packages and Modules\n",
    "***Package***->Collection of MOdules(Python File .py) and subpackages\n",
    "\n",
    "***Modules***-> A Single python file containing funtions\n",
    "\n",
    "Package->Subpackage-->Modules-->Functions"
   ]
  },
  {
   "cell_type": "code",
   "execution_count": 12,
   "metadata": {},
   "outputs": [
    {
     "data": {
      "text/plain": [
       "8787"
      ]
     },
     "execution_count": 12,
     "metadata": {},
     "output_type": "execute_result"
    }
   ],
   "source": [
    "from math import floor as fl\n",
    "fl(8787.987)\n"
   ]
  },
  {
   "cell_type": "code",
   "execution_count": 21,
   "metadata": {},
   "outputs": [
    {
     "name": "stdout",
     "output_type": "stream",
     "text": [
      "36 89 73 22 16 69 57 38 4 "
     ]
    }
   ],
   "source": [
    "#Function to generate integer random number\n",
    "\n",
    "import random\n",
    "def generateRandomNumber(n,lb,ub):\n",
    "    for i in range(1,n):\n",
    "        print(random.randint(lb,ub),end=\" \")\n",
    "generateRandomNumber(10,0,100)\n"
   ]
  },
  {
   "cell_type": "code",
   "execution_count": 38,
   "metadata": {},
   "outputs": [
    {
     "data": {
      "text/plain": [
       "False"
      ]
     },
     "execution_count": 38,
     "metadata": {},
     "output_type": "execute_result"
    }
   ],
   "source": [
    "from Packages import numerical\n",
    "numerical.isPrime(90)"
   ]
  },
  {
   "cell_type": "code",
   "execution_count": 39,
   "metadata": {},
   "outputs": [
    {
     "data": {
      "text/plain": [
       "False"
      ]
     },
     "execution_count": 39,
     "metadata": {},
     "output_type": "execute_result"
    }
   ],
   "source": [
    "from Packages.numerical import isPrime\n",
    "isPrime(90)"
   ]
  },
  {
   "cell_type": "code",
   "execution_count": null,
   "metadata": {},
   "outputs": [],
   "source": []
  },
  {
   "cell_type": "code",
   "execution_count": null,
   "metadata": {},
   "outputs": [],
   "source": []
  },
  {
   "cell_type": "code",
   "execution_count": null,
   "metadata": {},
   "outputs": [],
   "source": []
  }
 ],
 "metadata": {
  "kernelspec": {
   "display_name": "Python 3",
   "language": "python",
   "name": "python3"
  },
  "language_info": {
   "codemirror_mode": {
    "name": "ipython",
    "version": 3
   },
   "file_extension": ".py",
   "mimetype": "text/x-python",
   "name": "python",
   "nbconvert_exporter": "python",
   "pygments_lexer": "ipython3",
   "version": "3.7.3"
  }
 },
 "nbformat": 4,
 "nbformat_minor": 2
}
