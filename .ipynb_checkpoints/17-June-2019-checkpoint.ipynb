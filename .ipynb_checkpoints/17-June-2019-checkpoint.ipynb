{
 "cells": [
  {
   "cell_type": "code",
   "execution_count": null,
   "metadata": {},
   "outputs": [],
   "source": [
    "#Toggle String\n",
    "def lowerandupper(name):\n",
    "    name=input()\n",
    "    words=\" \"\n",
    "    for word in name:\n",
    "        if word.isupper()==True:\n",
    "            words+=word.lower()\n",
    "        else:\n",
    "            words+=word.upper()\n",
    "    return words\n",
    "lowerandupper(name)"
   ]
  },
  {
   "cell_type": "code",
   "execution_count": null,
   "metadata": {},
   "outputs": [],
   "source": [
    "#Char Sum\n",
    "name=input()\n",
    "def charSum(name):\n",
    "    sum=0\n",
    "    for i in name:\n",
    "        s=ord(i)-96\n",
    "        sum=sum+s\n",
    "        \n",
    "    print(sum)\n",
    "charSum(name)"
   ]
  },
  {
   "cell_type": "code",
   "execution_count": null,
   "metadata": {},
   "outputs": [],
   "source": [
    "s=\"1 44 2 14\"\n",
    "def minuteDiff(s):\n",
    "    s=s.split()\n",
    "    sh=int(s[0])\n",
    "    sm=int(s[1])\n",
    "    eh=int(s[2])\n",
    "    em=int(s[3])\n",
    "    startminutes=(sh*60)+sh\n",
    "    endminutes=(eh*60)+em\n",
    "    return endminutes-startminutes\n",
    "def outputTimeFormat(minutes):\n",
    "    #convert minutes to HH MM\n",
    "    hh=minutes//60\n",
    "    mm=minutes%60\n",
    "    print(hh,mm)\n",
    "    return\n",
    "n=int(input())\n",
    "for i in range(0,n):\n",
    "    s=input()\n",
    "    \n",
    "    \n",
    "minutes=minuteDiff(s)\n",
    "outputTimeFormat(minutes)"
   ]
  },
  {
   "cell_type": "code",
   "execution_count": null,
   "metadata": {},
   "outputs": [],
   "source": [
    "#Find The factors List\n",
    "#Exam Problem \n",
    "def factorsList(n):\n",
    "    sum=0\n",
    "    for i in range(1,n):\n",
    "        \n",
    "        if n%i==0:\n",
    "            sum=sum+i\n",
    "            #print(\"YES\")\n",
    "    if sum==n:\n",
    "        print(\"YES\")\n",
    "    else:\n",
    "        print(\"NO\")\n",
    "    return\n",
    "n=int(input())\n",
    "factorsList(n)"
   ]
  },
  {
   "cell_type": "code",
   "execution_count": null,
   "metadata": {},
   "outputs": [],
   "source": [
    "#Find the Max Value\n",
    "#Exam Problem\n",
    "n=int(input())\n",
    "def findTheMaxValue(n):\n",
    "    a=[]\n",
    "    a1=[]\n",
    "    for i in range(n,1,-1):\n",
    "        s=n%i\n",
    "        a.append(s)\n",
    "        a1.append(i)\n",
    "    \n",
    "    return (a1[max(a)])\n",
    "findTheMaxValue(n)"
   ]
  },
  {
   "cell_type": "code",
   "execution_count": null,
   "metadata": {},
   "outputs": [],
   "source": [
    "#Find the number of Prime Factors\n",
    "def factors(n):\n",
    "    count=0\n",
    "    for i in range(1,n):\n",
    "        if n%i==0:\n",
    "            if isprime(i):\n",
    "                count=count+1\n",
    "    return count\n",
    "def isprime(n):\n",
    "    if n==1:\n",
    "        return False\n",
    "    for i in range(2,n):\n",
    "        if n%i==0:\n",
    "            return False\n",
    "    return True\n",
    "def noofprimefactors(n):\n",
    "    count=0\n",
    "    for i in range(1,n):\n",
    "        if n%i==0:\n",
    "            if isprime(i):\n",
    "                count=count+1\n",
    "    return count\n",
    "p=int(input())\n",
    "q=int(input())\n",
    "for i in range(0,q):\n",
    "    a=int(input())\n",
    "    if noofprimefactors(a)==p:\n",
    "        print(\"YES\")\n",
    "    else:\n",
    "        print(\"NO\")\n",
    "    "
   ]
  },
  {
   "cell_type": "code",
   "execution_count": 2,
   "metadata": {},
   "outputs": [
    {
     "name": "stdout",
     "output_type": "stream",
     "text": [
      "dijfhg 3413\n",
      "4\n",
      "6\n"
     ]
    }
   ],
   "source": [
    "#Count the numbers of strings and numberof digits\n",
    "def countTheString(n):\n",
    "    \n",
    "    alphabit=0\n",
    "    count=0\n",
    "    for i in n:\n",
    "        if i.isdigit():\n",
    "            count+=1\n",
    "        elif i.isalpha():\n",
    "            alphabit+=1\n",
    "    print(count)\n",
    "    print(alphabit)\n",
    "n=input()\n",
    "countTheString(n)"
   ]
  },
  {
   "cell_type": "code",
   "execution_count": null,
   "metadata": {},
   "outputs": [],
   "source": [
    "dmfi31\n"
   ]
  }
 ],
 "metadata": {
  "kernelspec": {
   "display_name": "Python 3",
   "language": "python",
   "name": "python3"
  },
  "language_info": {
   "codemirror_mode": {
    "name": "ipython",
    "version": 3
   },
   "file_extension": ".py",
   "mimetype": "text/x-python",
   "name": "python",
   "nbconvert_exporter": "python",
   "pygments_lexer": "ipython3",
   "version": "3.7.3"
  }
 },
 "nbformat": 4,
 "nbformat_minor": 2
}
