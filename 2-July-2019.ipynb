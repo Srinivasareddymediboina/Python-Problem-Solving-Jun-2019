{
 "cells": [
  {
   "cell_type": "code",
   "execution_count": 9,
   "metadata": {},
   "outputs": [
    {
     "name": "stdout",
     "output_type": "stream",
     "text": [
      "123  123 1234 123 124\n",
      "248\n"
     ]
    }
   ],
   "source": [
    "data=list(map(int,input().split()))\n",
    "s=0\n",
    "uni=[]\n",
    "for i in data:\n",
    "    if i not in uni:\n",
    "        uni.append(i)\n",
    "for j in uni:\n",
    "    if len(str(j))==3:\n",
    "        s=s+i\n",
    "print(s)"
   ]
  },
  {
   "cell_type": "code",
   "execution_count": 12,
   "metadata": {},
   "outputs": [],
   "source": [
    "def divisionOfTwoNumbers(a,b):\n",
    "    return a/b"
   ]
  },
  {
   "cell_type": "code",
   "execution_count": 14,
   "metadata": {},
   "outputs": [
    {
     "name": "stdout",
     "output_type": "stream",
     "text": [
      "3.3333333333333335\n"
     ]
    }
   ],
   "source": [
    "print(divisionOfTwoNumbers(10,3))"
   ]
  },
  {
   "cell_type": "code",
   "execution_count": 21,
   "metadata": {},
   "outputs": [
    {
     "name": "stdout",
     "output_type": "stream",
     "text": [
      "123 34 54 65\n",
      "\n",
      " 276\n"
     ]
    }
   ],
   "source": [
    "def sumOfNumbers(numbers):\n",
    "    tot=0\n",
    "    for each_number in numbers:\n",
    "        #print(each_number,end=\" \")\n",
    "        tot=tot+each_number\n",
    "    print(\"\\n\",tot)\n"
   ]
  },
  {
   "cell_type": "code",
   "execution_count": 23,
   "metadata": {},
   "outputs": [
    {
     "name": "stdout",
     "output_type": "stream",
     "text": [
      "1234 34 23\n",
      "\n",
      " 1291\n"
     ]
    }
   ],
   "source": [
    "number=list(map(int,input().split()))\n",
    "sumOfNumbers(number)"
   ]
  },
  {
   "cell_type": "code",
   "execution_count": 29,
   "metadata": {},
   "outputs": [
    {
     "name": "stdout",
     "output_type": "stream",
     "text": [
      "None\n"
     ]
    }
   ],
   "source": [
    "li=[6,30,40,5,28,57,90]\n",
    "s=li.sort()\n",
    "print(s)"
   ]
  },
  {
   "cell_type": "code",
   "execution_count": null,
   "metadata": {},
   "outputs": [],
   "source": []
  }
 ],
 "metadata": {
  "kernelspec": {
   "display_name": "Python 3",
   "language": "python",
   "name": "python3"
  },
  "language_info": {
   "codemirror_mode": {
    "name": "ipython",
    "version": 3
   },
   "file_extension": ".py",
   "mimetype": "text/x-python",
   "name": "python",
   "nbconvert_exporter": "python",
   "pygments_lexer": "ipython3",
   "version": "3.7.3"
  }
 },
 "nbformat": 4,
 "nbformat_minor": 2
}
