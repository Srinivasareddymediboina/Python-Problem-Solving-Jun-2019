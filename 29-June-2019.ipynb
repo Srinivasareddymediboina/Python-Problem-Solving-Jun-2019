{
 "cells": [
  {
   "cell_type": "code",
   "execution_count": 11,
   "metadata": {},
   "outputs": [
    {
     "name": "stdout",
     "output_type": "stream",
     "text": [
      "10\n",
      "0 2 4 6 8 \n",
      "\n",
      "1 3 5 7 9 "
     ]
    }
   ],
   "source": [
    "# Print even and odd numbers up to given range.\n",
    "n=int(input())\n",
    "for i in range(n):\n",
    "    if i%2==0:\n",
    "        print(i,end=\" \")\n",
    "print(\"\\n\")\n",
    "for j in range(n):\n",
    "    if j%2!=0:\n",
    "        print(j,end=\" \")    \n",
    "    "
   ]
  },
  {
   "cell_type": "code",
   "execution_count": 3,
   "metadata": {},
   "outputs": [
    {
     "name": "stdout",
     "output_type": "stream",
     "text": [
      "5 9\n",
      "False\n"
     ]
    }
   ],
   "source": [
    "# 2.print given numbers prime or not.\n",
    "def isprime(n):\n",
    "    c=0\n",
    "\n",
    "    for i in n:\n",
    "        for j in range(2,i):\n",
    "            if i%j==0:\n",
    "                c+=1\n",
    "    if c==2:\n",
    "        print(\"True\")\n",
    "    else:\n",
    "        print(\"False\")\n",
    "n=list(map(int,input().split()))\n",
    "isprime(n)"
   ]
  },
  {
   "cell_type": "code",
   "execution_count": null,
   "metadata": {},
   "outputs": [],
   "source": [
    "# 3. Print prime numbers up to given range. --> input: 10 output: 2 3 5 7\n",
    "\n",
    "def primeNumberRange(lb,ub):\n",
    "    for i in range(lb,ub+1):\n",
    "        if i>1:\n",
    "            for j in range(2,i):\n",
    "                if(i%j)==0:\n",
    "                    break\n",
    "            else:\n",
    "                print(i)\n",
    "\n",
    "lb=int(input())\n",
    "ub=int(input())\n",
    "primeNumberRange(lb,ub)\n"
   ]
  },
  {
   "cell_type": "code",
   "execution_count": 5,
   "metadata": {},
   "outputs": [
    {
     "name": "stdout",
     "output_type": "stream",
     "text": [
      "1 2 4 53 4\n",
      "4\n"
     ]
    }
   ],
   "source": [
    " # 3.Print second Max Ex: 12 34 23 45 65 o/p:45\n",
    "    \n",
    "s=input().split()\n",
    "#print(s)\n",
    "order=sorted(s) \n",
    "#print(order)\n",
    "second_max=order[-2]\n",
    "print(second_max)\n"
   ]
  },
  {
   "cell_type": "code",
   "execution_count": null,
   "metadata": {},
   "outputs": [
    {
     "name": "stdout",
     "output_type": "stream",
     "text": [
      "2\n",
      "5\n",
      "0\n",
      "0\n",
      "0\n",
      "0\n",
      "0\n",
      "0\n"
     ]
    }
   ],
   "source": [
    "# 4.Print factorial of a given number if it is a prime otherwise print power of the value.\n",
    "#### test cases : 2\n",
    "#### 5  --> 120\n",
    "#### 4 --> 16\n",
    "\n",
    "def prime(n):\n",
    "    c=0\n",
    "    for i in range(1,n+1):\n",
    "        if n%i==0:\n",
    "            c+=1\n",
    "    if c==2:\n",
    "        print(n,\"prime\")\n",
    "    else:\n",
    "        print(n,\"not prime\")\n",
    "def factprime(n):\n",
    "    for i in range(n+1):\n",
    "        fact=1\n",
    "        for j in range(n):\n",
    "            fact=fact*j\n",
    "        print(fact)\n",
    "t=int(input())\n",
    "for i in range(t):                                                                                                                                                                                                                                                                                                                                                  \n",
    "    n=int(input())\n",
    "    factprime(n)\n",
    "    \n",
    "    \n",
    "\n"
   ]
  },
  {
   "cell_type": "code",
   "execution_count": 1,
   "metadata": {},
   "outputs": [
    {
     "name": "stdout",
     "output_type": "stream",
     "text": [
      "2\n",
      "5 4\n",
      "2 9\n",
      "1 2 3 4\n",
      "4 10\n"
     ]
    }
   ],
   "source": [
    "# 5.print count and sum of digits in a given string \n",
    "\n",
    "#### test cases: 2\n",
    "#### 5 ---> 1 5\n",
    "#### 3 5 7 2 3  ---> 5 20\n",
    "def lenAndSum(n1):\n",
    "    s=0\n",
    "    count=0\n",
    "    for i in n1:\n",
    "        s=s+int(i)\n",
    "        count+=1\n",
    "    print(count,s,sep=\" \")\n",
    "t=int(input())\n",
    "for i in range(t):\n",
    "    n=input().split()\n",
    "    n1=list(map(int,n))\n",
    "    lenAndSum(n1)\n",
    "    \n"
   ]
  },
  {
   "cell_type": "code",
   "execution_count": 9,
   "metadata": {},
   "outputs": [
    {
     "name": "stdout",
     "output_type": "stream",
     "text": [
      "3\n"
     ]
    }
   ],
   "source": [
    "t=(1,2,3,4,1,2,3,1)\n",
    "for i in t:\n",
    "    print(t.count(1))"
   ]
  },
  {
   "cell_type": "code",
   "execution_count": 10,
   "metadata": {},
   "outputs": [
    {
     "data": {
      "text/plain": [
       "{'name': 'archana', 'branch': 'cse'}"
      ]
     },
     "execution_count": 10,
     "metadata": {},
     "output_type": "execute_result"
    }
   ],
   "source": [
    "### Dictionaries\n",
    "\n",
    "list1={'name':'archana','branch':'cse'}\n",
    "list1\n",
    "\n",
    "\n"
   ]
  },
  {
   "cell_type": "code",
   "execution_count": 13,
   "metadata": {},
   "outputs": [
    {
     "name": "stdout",
     "output_type": "stream",
     "text": [
      "chinnu\n"
     ]
    }
   ],
   "source": [
    "list1={'name':['archana','anu','chinnu'],'branch':'cse'}\n",
    "print(list1['name'][2])"
   ]
  },
  {
   "cell_type": "code",
   "execution_count": 14,
   "metadata": {},
   "outputs": [
    {
     "name": "stdout",
     "output_type": "stream",
     "text": [
      "e\n"
     ]
    }
   ],
   "source": [
    "print(list1['branch'][2])"
   ]
  },
  {
   "cell_type": "code",
   "execution_count": 17,
   "metadata": {},
   "outputs": [
    {
     "name": "stdout",
     "output_type": "stream",
     "text": [
      "name --------> ['archana', 'anu', 'chinnu']\n",
      "branch --------> cse\n"
     ]
    }
   ],
   "source": [
    "for each in list1:\n",
    "    print(each,'-------->',list1[each])"
   ]
  },
  {
   "cell_type": "code",
   "execution_count": 19,
   "metadata": {},
   "outputs": [
    {
     "name": "stdout",
     "output_type": "stream",
     "text": [
      "{}\n"
     ]
    }
   ],
   "source": [
    "# methods in Dictionaries\n",
    "\n",
    "li={'name':'anu','petname':'chinnu'}\n",
    "li.clear()\n",
    "print(li)"
   ]
  },
  {
   "cell_type": "code",
   "execution_count": 20,
   "metadata": {},
   "outputs": [
    {
     "name": "stdout",
     "output_type": "stream",
     "text": [
      "{}\n"
     ]
    }
   ],
   "source": [
    "li.clear()\n",
    "print(li)"
   ]
  },
  {
   "cell_type": "code",
   "execution_count": 21,
   "metadata": {},
   "outputs": [
    {
     "name": "stdout",
     "output_type": "stream",
     "text": [
      "{'name': ['archana', 'anu', 'chinnu'], 'branch': 'cse'}\n"
     ]
    }
   ],
   "source": [
    "newlist=list1.copy()\n",
    "print(newlist)"
   ]
  },
  {
   "cell_type": "code",
   "execution_count": 25,
   "metadata": {},
   "outputs": [
    {
     "name": "stdout",
     "output_type": "stream",
     "text": [
      "None\n"
     ]
    }
   ],
   "source": [
    "list1.get('name')\n",
    "print(list1.get('mobile'))\n"
   ]
  },
  {
   "cell_type": "code",
   "execution_count": 26,
   "metadata": {},
   "outputs": [
    {
     "name": "stdout",
     "output_type": "stream",
     "text": [
      "{'apple': 2, 'orange': 1, 'mango': 1}\n"
     ]
    }
   ],
   "source": [
    "fruits=['apple','orange','mango','apple']\n",
    "fruits_dict={}\n",
    "for fruit in fruits:\n",
    "    fruits_dict[fruit]=fruits_dict.get(fruit,0)+1\n",
    "print(fruits_dict)   \n"
   ]
  },
  {
   "cell_type": "code",
   "execution_count": null,
   "metadata": {},
   "outputs": [],
   "source": [
    "for key in fruits_dic"
   ]
  },
  {
   "cell_type": "code",
   "execution_count": null,
   "metadata": {},
   "outputs": [],
   "source": []
  }
 ],
 "metadata": {
  "kernelspec": {
   "display_name": "Python 3",
   "language": "python",
   "name": "python3"
  },
  "language_info": {
   "codemirror_mode": {
    "name": "ipython",
    "version": 3
   },
   "file_extension": ".py",
   "mimetype": "text/x-python",
   "name": "python",
   "nbconvert_exporter": "python",
   "pygments_lexer": "ipython3",
   "version": "3.7.3"
  }
 },
 "nbformat": 4,
 "nbformat_minor": 2
}
