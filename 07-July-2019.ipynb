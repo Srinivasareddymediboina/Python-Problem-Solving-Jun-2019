{
 "cells": [
  {
   "cell_type": "code",
   "execution_count": 2,
   "metadata": {},
   "outputs": [
    {
     "name": "stdout",
     "output_type": "stream",
     "text": [
      "welcometomyworldaeiou\n"
     ]
    }
   ],
   "source": [
    "s=\"welcome to my world a e i o u  \"\n",
    "s1=\" \"\n",
    "s3=s.replace(s1,\"\")\n",
    "print(s3)"
   ]
  },
  {
   "cell_type": "code",
   "execution_count": 22,
   "metadata": {},
   "outputs": [
    {
     "name": "stdout",
     "output_type": "stream",
     "text": [
      "WELCOME TO ALL \n",
      "GOOD AFTERNOON OUR CLASS \n",
      "MULTISKILL TRAINIGS\n",
      "welcome to all \n",
      "good afternoon our class \n",
      "multiskill trainigs\n"
     ]
    }
   ],
   "source": [
    "s=\"\"\"welcome to all \n",
    "good afternoon our class \n",
    "multiskill trainigs\"\"\"\n",
    "s1=s.upper()\n",
    "print(s1)\n",
    "s3=s1.lower()\n",
    "print(s3)\n",
    "\n"
   ]
  },
  {
   "cell_type": "code",
   "execution_count": 64,
   "metadata": {},
   "outputs": [
    {
     "name": "stdout",
     "output_type": "stream",
     "text": [
      "6\n"
     ]
    },
    {
     "data": {
      "text/plain": [
       "720"
      ]
     },
     "execution_count": 64,
     "metadata": {},
     "output_type": "execute_result"
    }
   ],
   "source": [
    "n=int(input())\n",
    "def s(n):\n",
    "    \n",
    "    def fact(n):\n",
    "        fact=1\n",
    "        for i in range(1,n+1):\n",
    "            fact=fact*i\n",
    "        return fact\n",
    "\n",
    "    if n%2==0:\n",
    "        return fact(n)\n",
    "    return \"not\"\n",
    "    #n=int(input())    \n",
    "s(n)  "
   ]
  },
  {
   "cell_type": "code",
   "execution_count": 37,
   "metadata": {},
   "outputs": [
    {
     "name": "stdout",
     "output_type": "stream",
     "text": [
      "10\n",
      "55\n"
     ]
    }
   ],
   "source": [
    "s=int(input())\n",
    "s1=[]\n",
    "for i in range(0,s+1):\n",
    "    s1.append(i)\n",
    "print(sum(s1))"
   ]
  },
  {
   "cell_type": "code",
   "execution_count": 76,
   "metadata": {},
   "outputs": [
    {
     "name": "stdout",
     "output_type": "stream",
     "text": [
      "200 500\n",
      "211 223 227 229 233 239 241 251 257 263 269 271 277 281 283 293 307 311 313 317 331 337 347 349 353 359 367 373 379 383 389 397 401 409 419 421 431 433 439 443 449 457 461 463 467 479 487 491 499 "
     ]
    }
   ],
   "source": [
    "n=int(input()\n",
    "def Prime(n):\n",
    "    for i in range(lb,ub):\n",
    "        if i>0:\n",
    "            \n",
    "            for j in range(2,i):\n",
    "                if i%j==0:\n",
    "                    break\n",
    "            else:\n",
    "                print(i,end=\" \")\n",
    "Prime(n)\n",
    "\n",
    "\n",
    "    "
   ]
  },
  {
   "cell_type": "code",
   "execution_count": 31,
   "metadata": {},
   "outputs": [
    {
     "name": "stdout",
     "output_type": "stream",
     "text": [
      "None\n"
     ]
    },
    {
     "data": {
      "text/plain": [
       "'for i in range(s):\\n    i[1\\n    '"
      ]
     },
     "execution_count": 31,
     "metadata": {},
     "output_type": "execute_result"
    }
   ],
   "source": [
    "n=\"\"\"uaghl i ihpdfkbvas hjvad vihqpfbad\n",
    "fkghljqdng fkikjgfnj HIGBF HIGKBSGFBHSG \n",
    "GFHKBGO KIJWHRF SIUWRGJ \n",
    "JBFIJWRBLS WJFBLNW\n",
    "VBWKVJ  IVHJBS3423524JH36398693\"\"\"\n",
    "\n",
    "for i in n:\n",
    "    i.\n"
   ]
  },
  {
   "cell_type": "markdown",
   "metadata": {},
   "source": [
    "- ***9.Find the average of unique three digit numbers***\n",
    "- ***i/p:1 2 10 100 500 50 100 6 7***\n",
    "- ***o/p300***\n",
    "\n"
   ]
  },
  {
   "cell_type": "code",
   "execution_count": 20,
   "metadata": {},
   "outputs": [
    {
     "name": "stdout",
     "output_type": "stream",
     "text": [
      "12 34 511 511 12 123\n",
      "317.0\n"
     ]
    }
   ],
   "source": [
    "l=list(map(int,input().split()))\n",
    "s=[]\n",
    "un=[]\n",
    "for i in l:\n",
    "    if i not in un:\n",
    "        un.append(i)\n",
    "for j in un:\n",
    "    if len(str(j))==3:\n",
    "        s.append(j)\n",
    "        \n",
    "#print(un)\n",
    "print(sum(s)/len(s))"
   ]
  },
  {
   "cell_type": "code",
   "execution_count": 30,
   "metadata": {},
   "outputs": [
    {
     "name": "stdout",
     "output_type": "stream",
     "text": [
      "None\n"
     ]
    }
   ],
   "source": [
    "s1=[(12,43),(41,1),(4,2),(2,4)]\n",
    "print(s1.sort())"
   ]
  },
  {
   "cell_type": "code",
   "execution_count": null,
   "metadata": {},
   "outputs": [],
   "source": []
  }
 ],
 "metadata": {
  "kernelspec": {
   "display_name": "Python 3",
   "language": "python",
   "name": "python3"
  },
  "language_info": {
   "codemirror_mode": {
    "name": "ipython",
    "version": 3
   },
   "file_extension": ".py",
   "mimetype": "text/x-python",
   "name": "python",
   "nbconvert_exporter": "python",
   "pygments_lexer": "ipython3",
   "version": "3.7.3"
  }
 },
 "nbformat": 4,
 "nbformat_minor": 2
}
