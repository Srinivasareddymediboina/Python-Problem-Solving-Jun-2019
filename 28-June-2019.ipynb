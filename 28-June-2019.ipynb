{
 "cells": [
  {
   "cell_type": "code",
   "execution_count": 14,
   "metadata": {},
   "outputs": [
    {
     "name": "stdout",
     "output_type": "stream",
     "text": [
      "Apssdc\n"
     ]
    }
   ],
   "source": [
    "s=\"A P S S D C\"\n",
    "a=s.lower()\n",
    "s1=a.capitalize()\n",
    "s2=s1.replace(\" \",\"\")\n",
    "print(s2)\n"
   ]
  },
  {
   "cell_type": "code",
   "execution_count": 3,
   "metadata": {},
   "outputs": [
    {
     "name": "stdout",
     "output_type": "stream",
     "text": [
      "1 3\n",
      "crAhana\n"
     ]
    }
   ],
   "source": [
    "s=\"Archana\"\n",
    "start,end=list(map(int,input().split()))\n",
    "s1=s[start-1:end][::-1]\n",
    "s2=s[end:]\n",
    "print(s1+s2)"
   ]
  },
  {
   "cell_type": "code",
   "execution_count": 87,
   "metadata": {},
   "outputs": [
    {
     "name": "stdout",
     "output_type": "stream",
     "text": [
      "hi hello world\n",
      "hello\n",
      "world\n"
     ]
    }
   ],
   "source": [
    "s=input().split()\n",
    "lenths=[]\n",
    "for word in s:\n",
    "    lenths.append(len(word))\n",
    "max_lenth=max(lenths)\n",
    "#print(max_lenth)\n",
    "for word in s:\n",
    "    if max_lenth==len(word):\n",
    "        print(word)"
   ]
  },
  {
   "cell_type": "code",
   "execution_count": 96,
   "metadata": {},
   "outputs": [
    {
     "name": "stdout",
     "output_type": "stream",
     "text": [
      "anu ramu\n",
      "ramu\n"
     ]
    }
   ],
   "source": [
    "s=input().split()\n",
    "s1=[]\n",
    "count=0\n",
    "for word in s:\n",
    "    s1.append(word)\n",
    "for word in s1:\n",
    "    s2='r'\n",
    "    if word.startswith(s2):\n",
    "        print(word)\n",
    "        count+=1\n",
    "if count==0:\n",
    "    print('-1')\n"
   ]
  },
  {
   "cell_type": "code",
   "execution_count": 63,
   "metadata": {},
   "outputs": [
    {
     "name": "stdout",
     "output_type": "stream",
     "text": [
      "helloworld\n",
      "HELLOWORLd\n"
     ]
    }
   ],
   "source": [
    "#6 problem\n",
    "s=input()\n",
    "s1=s.swapcase()\n",
    "s2=s1[-1].lower()\n",
    "s3=s1[:-1]\n",
    "print(s3+s2)"
   ]
  },
  {
   "cell_type": "code",
   "execution_count": 76,
   "metadata": {},
   "outputs": [
    {
     "name": "stdout",
     "output_type": "stream",
     "text": [
      "rcd srd srinu\n",
      "rcd\n",
      "srd\n"
     ]
    }
   ],
   "source": [
    "# not ends with vowels\n",
    "s=input().split() #\n",
    "vowels=('a','e','i','o','u')\n",
    "for word in s:\n",
    "    if word.endswith(vowels):\n",
    "        pass\n",
    "    else:\n",
    "        print(word)\n"
   ]
  },
  {
   "cell_type": "code",
   "execution_count": 27,
   "metadata": {},
   "outputs": [
    {
     "name": "stdout",
     "output_type": "stream",
     "text": [
      "ramu akash balu\n",
      "akash\n"
     ]
    }
   ],
   "source": [
    "#5. Print all the words which word contains duplicate characters\n",
    "#ramu akash balu\n",
    "\n",
    "data=input().split()\n",
    "count=0\n",
    "for name in data:\n",
    "    for i in name:\n",
    "        if name.count(i)>1:\n",
    "            print(name)\n",
    "            break"
   ]
  },
  {
   "cell_type": "code",
   "execution_count": 21,
   "metadata": {},
   "outputs": [
    {
     "name": "stdout",
     "output_type": "stream",
     "text": [
      "hii jgdh gf\n",
      "0\n"
     ]
    }
   ],
   "source": [
    "#7. Print the number of words in a given string (here word starting character contains UPPER letter)\n",
    "# HelloWorld\n",
    "s=input()\n",
    "count=0\n",
    "for i in s:\n",
    "    if i.isupper():\n",
    "        count+=1\n",
    "print(count)\n",
    "    \n",
    "\n"
   ]
  },
  {
   "cell_type": "code",
   "execution_count": 1,
   "metadata": {},
   "outputs": [
    {
     "name": "stdout",
     "output_type": "stream",
     "text": [
      "www.way2sms.com\n",
      "1\n",
      "12\n",
      "2\n"
     ]
    }
   ],
   "source": [
    "#8. Print the number of digits, alphabets and any other \n",
    "#www.way2sms.com\n",
    "#DIGITS 1\n",
    "#ALPHABETS  12\n",
    "#OTHER 2\n",
    "\n",
    "data=input()\n",
    "digit=0\n",
    "letter=0\n",
    "spl=0\n",
    "for i in data:\n",
    "    if i.isdigit():\n",
    "        digit+=1\n",
    "    elif i.isalpha():\n",
    "        letter+=1\n",
    "    else:\n",
    "        spl+=1\n",
    "print(digit)\n",
    "print(letter)\n",
    "print(spl)"
   ]
  },
  {
   "cell_type": "code",
   "execution_count": 9,
   "metadata": {},
   "outputs": [
    {
     "data": {
      "text/plain": [
       "['m', 'm', 'm', 'm', 'm', 'm', 'm', 'm', 'm', 'm']"
      ]
     },
     "execution_count": 9,
     "metadata": {},
     "output_type": "execute_result"
    }
   ],
   "source": [
    "li=[i for x in range(10)]\n",
    "li"
   ]
  },
  {
   "cell_type": "code",
   "execution_count": 10,
   "metadata": {},
   "outputs": [
    {
     "data": {
      "text/plain": [
       "[0, 1, 2, 3, 4, 5, 6, 7, 8, 9]"
      ]
     },
     "execution_count": 10,
     "metadata": {},
     "output_type": "execute_result"
    }
   ],
   "source": [
    "li=[i for i in range(10)]\n",
    "li"
   ]
  },
  {
   "cell_type": "code",
   "execution_count": 11,
   "metadata": {},
   "outputs": [
    {
     "data": {
      "text/plain": [
       "[0, 1, 4, 9, 16, 25, 36, 49, 64, 81]"
      ]
     },
     "execution_count": 11,
     "metadata": {},
     "output_type": "execute_result"
    }
   ],
   "source": [
    "li=[i*i for i in range(10)]\n",
    "li"
   ]
  },
  {
   "cell_type": "code",
   "execution_count": 12,
   "metadata": {},
   "outputs": [
    {
     "data": {
      "text/plain": [
       "[0, 2, 4, 6, 8, 10, 12, 14, 16, 18]"
      ]
     },
     "execution_count": 12,
     "metadata": {},
     "output_type": "execute_result"
    }
   ],
   "source": [
    "li=[i*2 for i in range(10)]\n",
    "li"
   ]
  },
  {
   "cell_type": "code",
   "execution_count": 13,
   "metadata": {},
   "outputs": [
    {
     "data": {
      "text/plain": [
       "[0, 5, 10, 15, 20, 25, 30, 35, 40, 45]"
      ]
     },
     "execution_count": 13,
     "metadata": {},
     "output_type": "execute_result"
    }
   ],
   "source": [
    "li=[i*5 for i in range(10)]\n",
    "li"
   ]
  },
  {
   "cell_type": "code",
   "execution_count": 15,
   "metadata": {},
   "outputs": [
    {
     "data": {
      "text/plain": [
       "[0, 1, 8, 27, 64, 125, 216, 343, 512, 729]"
      ]
     },
     "execution_count": 15,
     "metadata": {},
     "output_type": "execute_result"
    }
   ],
   "source": [
    "li=[i**3 for i in range(10)]\n",
    "li"
   ]
  },
  {
   "cell_type": "code",
   "execution_count": 30,
   "metadata": {},
   "outputs": [
    {
     "data": {
      "text/plain": [
       "[2, 4, 6, 8]"
      ]
     },
     "execution_count": 30,
     "metadata": {},
     "output_type": "execute_result"
    }
   ],
   "source": [
    "li=[i for i in range(2,10,2)]\n",
    "li"
   ]
  },
  {
   "cell_type": "code",
   "execution_count": 35,
   "metadata": {},
   "outputs": [
    {
     "data": {
      "text/plain": [
       "[1, 2, 3, 4, 5, 6, 7, 8, 9, 10]"
      ]
     },
     "execution_count": 35,
     "metadata": {},
     "output_type": "execute_result"
    }
   ],
   "source": [
    "li=[i for i in range(1,10,2+1)]\n",
    "li"
   ]
  },
  {
   "cell_type": "code",
   "execution_count": 5,
   "metadata": {},
   "outputs": [
    {
     "name": "stdout",
     "output_type": "stream",
     "text": [
      "5\n",
      "5 , 1 , 5\n",
      "5 , 2 , 10\n",
      "5 , 3 , 15\n",
      "5 , 4 , 20\n",
      "5 , 5 , 25\n",
      "5 , 6 , 30\n",
      "5 , 7 , 35\n",
      "5 , 8 , 40\n",
      "5 , 9 , 45\n",
      "5 , 10 , 50\n"
     ]
    }
   ],
   "source": [
    "n=int(input())\n",
    "li=[print(n,',',i,',',(n*i)) for i in range(1,10+1)]\n",
    "                   "
   ]
  },
  {
   "cell_type": "code",
   "execution_count": 1,
   "metadata": {},
   "outputs": [
    {
     "name": "stdout",
     "output_type": "stream",
     "text": [
      "anu\n",
      "['a', 'n', 'u']\n"
     ]
    }
   ],
   "source": [
    "s=input()\n",
    "li=[i.lower() for i in s]\n",
    "print(li)"
   ]
  },
  {
   "cell_type": "code",
   "execution_count": 15,
   "metadata": {},
   "outputs": [
    {
     "name": "stdout",
     "output_type": "stream",
     "text": [
      "s2\n",
      "s2\n"
     ]
    }
   ],
   "source": [
    "s=input()\n",
    "li=[i.isalpha() for i in s]\n",
    "print(s)"
   ]
  },
  {
   "cell_type": "code",
   "execution_count": null,
   "metadata": {},
   "outputs": [],
   "source": []
  }
 ],
 "metadata": {
  "kernelspec": {
   "display_name": "Python 3",
   "language": "python",
   "name": "python3"
  },
  "language_info": {
   "codemirror_mode": {
    "name": "ipython",
    "version": 3
   },
   "file_extension": ".py",
   "mimetype": "text/x-python",
   "name": "python",
   "nbconvert_exporter": "python",
   "pygments_lexer": "ipython3",
   "version": "3.7.3"
  }
 },
 "nbformat": 4,
 "nbformat_minor": 2
}
