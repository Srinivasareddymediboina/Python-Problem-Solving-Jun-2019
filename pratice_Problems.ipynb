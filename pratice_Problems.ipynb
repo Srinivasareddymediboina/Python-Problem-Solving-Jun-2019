{
 "cells": [
  {
   "cell_type": "code",
   "execution_count": 3,
   "metadata": {},
   "outputs": [
    {
     "name": "stdout",
     "output_type": "stream",
     "text": [
      "1234\n",
      "43234\n",
      "132\n",
      "43234\n"
     ]
    }
   ],
   "source": [
    "n1=int(input())\n",
    "n2=int(input())\n",
    "n3=int(input())\n",
    "if n1>n2 and n1>n3:\n",
    "    print(n1)\n",
    "elif n2>n1 and n2>n3:\n",
    "    print(n2)\n",
    "elif n3>n1 and n3>n2:\n",
    "    print(n3)"
   ]
  },
  {
   "cell_type": "code",
   "execution_count": 5,
   "metadata": {},
   "outputs": [
    {
     "name": "stdout",
     "output_type": "stream",
     "text": [
      "2019\n",
      "not in a leap\n"
     ]
    }
   ],
   "source": [
    "n=int(input())\n",
    "if (n%400==0 and n%100!=0) or n%4==0:\n",
    "    print(\"leap\")\n",
    "break\n",
    "else:\n",
    "    print(\"not in a leap\")"
   ]
  },
  {
   "cell_type": "code",
   "execution_count": 8,
   "metadata": {},
   "outputs": [
    {
     "name": "stdout",
     "output_type": "stream",
     "text": [
      "233\n",
      "233 not multible\n"
     ]
    }
   ],
   "source": [
    "n=int(input())\n",
    "if 1000%n==0:\n",
    "    print(n,\"multiple\")\n",
    "else:\n",
    "    print(n,\"not multible\")"
   ]
  },
  {
   "cell_type": "code",
   "execution_count": 16,
   "metadata": {},
   "outputs": [
    {
     "name": "stdout",
     "output_type": "stream",
     "text": [
      "987\n",
      "987 = 987\n"
     ]
    }
   ],
   "source": [
    "n=int(input())\n",
    "s1=987\n",
    "if (n)==(s1):\n",
    "    print(n,\"=\",s1)\n",
    "else:\n",
    "    print(n,\"!=\",s1)"
   ]
  },
  {
   "cell_type": "code",
   "execution_count": 11,
   "metadata": {},
   "outputs": [
    {
     "ename": "TypeError",
     "evalue": "object of type 'int' has no len()",
     "output_type": "error",
     "traceback": [
      "\u001b[1;31m---------------------------------------------------------------------------\u001b[0m",
      "\u001b[1;31mTypeError\u001b[0m                                 Traceback (most recent call last)",
      "\u001b[1;32m<ipython-input-11-a6deab2a3e5e>\u001b[0m in \u001b[0;36m<module>\u001b[1;34m\u001b[0m\n\u001b[0;32m      1\u001b[0m \u001b[0ms\u001b[0m\u001b[1;33m=\u001b[0m\u001b[1;36m9876\u001b[0m\u001b[1;33m\u001b[0m\u001b[1;33m\u001b[0m\u001b[0m\n\u001b[1;32m----> 2\u001b[1;33m \u001b[0mlen\u001b[0m\u001b[1;33m(\u001b[0m\u001b[0ms\u001b[0m\u001b[1;33m)\u001b[0m\u001b[1;33m\u001b[0m\u001b[1;33m\u001b[0m\u001b[0m\n\u001b[0m",
      "\u001b[1;31mTypeError\u001b[0m: object of type 'int' has no len()"
     ]
    }
   ],
   "source": []
  },
  {
   "cell_type": "code",
   "execution_count": 20,
   "metadata": {},
   "outputs": [
    {
     "name": "stdout",
     "output_type": "stream",
     "text": [
      "s\n",
      "t\n",
      "r\n",
      "n\n",
      "g\n"
     ]
    }
   ],
   "source": [
    "for i in \"string\":\n",
    "    if i==\"i\":\n",
    "        continue\n",
    "    print(i)"
   ]
  },
  {
   "cell_type": "code",
   "execution_count": 22,
   "metadata": {},
   "outputs": [
    {
     "name": "stdout",
     "output_type": "stream",
     "text": [
      "srs\n",
      "pla\n"
     ]
    }
   ],
   "source": [
    "n=input()\n",
    "if n==n[::-1]:\n",
    "    print(\"pla\")\n",
    "else:\n",
    "    print(\"not\")"
   ]
  },
  {
   "cell_type": "code",
   "execution_count": null,
   "metadata": {},
   "outputs": [],
   "source": [
    "def sr(s,s1,s2,s3):\n",
    "    \n",
    "\n",
    "    if s>s1 and s>s2 and s>s3:\n",
    "        print(s)\n",
    "    elif s1>s and s1>s2 and s1>s3:\n",
    "        print(s1)\n",
    "    elif s2>s and s2>s1 and s2>s2:\n",
    "        print(s2)\n",
    "    elif s3>s and s3>s1 and s3>s2:\n",
    "        print(s3)\n",
    "n=int(input())\n",
    "for i in range(0,n):\n",
    "    s=int(input())\n",
    "    s1=int(input())\n",
    "    s2=int(input())\n",
    "    s3=int(input())\n",
    "    sr(s,s1,s2,s3)"
   ]
  },
  {
   "cell_type": "code",
   "execution_count": 32,
   "metadata": {},
   "outputs": [
    {
     "name": "stdout",
     "output_type": "stream",
     "text": [
      "1 10\n",
      "55\n"
     ]
    }
   ],
   "source": [
    "def s(lb,ub):\n",
    "    s=0\n",
    "    for i in range(lb,ub+1):\n",
    "        #print(i,end=\" \")\n",
    "        s+=i\n",
    "    print(s)\n",
    "lb,ub=map(int,input().split())\n",
    "s(lb,ub)"
   ]
  },
  {
   "cell_type": "code",
   "execution_count": 29,
   "metadata": {},
   "outputs": [
    {
     "name": "stdout",
     "output_type": "stream",
     "text": [
      "10\n",
      "55\n"
     ]
    }
   ],
   "source": [
    "s=int(input())\n",
    "sum=0\n",
    "c=1\n",
    "while c<s+1:\n",
    "    sum=sum+c\n",
    "    #print(c,end=\" \")\n",
    "    \n",
    "    c+=1\n",
    "print(sum)\n",
    "        "
   ]
  },
  {
   "cell_type": "code",
   "execution_count": 10,
   "metadata": {},
   "outputs": [
    {
     "name": "stdout",
     "output_type": "stream",
     "text": [
      "1 2 3 4 5 6 7 8 9 10 "
     ]
    }
   ],
   "source": [
    "counter = 1\n",
    "while counter <= 10:\n",
    "    print(counter, end = \" \")\n",
    "    counter = counter + 1"
   ]
  },
  {
   "cell_type": "code",
   "execution_count": 28,
   "metadata": {},
   "outputs": [
    {
     "name": "stdout",
     "output_type": "stream",
     "text": [
      "1 3 4 \n",
      "6\n"
     ]
    }
   ],
   "source": [
    "s=input()#\" 1 2 4 4 \"\n",
    "print(len(s))"
   ]
  },
  {
   "cell_type": "code",
   "execution_count": 44,
   "metadata": {},
   "outputs": [
    {
     "name": "stdout",
     "output_type": "stream",
     "text": [
      "1 10\n",
      "55\n"
     ]
    }
   ],
   "source": [
    "lb,ub=map(int,input().split())\n",
    "su=0\n",
    "for i in range(lb,ub+1):\n",
    "    su+=i\n",
    "print(su)\n",
    "\n",
    "    "
   ]
  },
  {
   "cell_type": "code",
   "execution_count": 26,
   "metadata": {},
   "outputs": [
    {
     "name": "stdout",
     "output_type": "stream",
     "text": [
      "S. Reddy\n"
     ]
    }
   ],
   "source": [
    "n=\"Sinivas Reddy\"\n",
    "s=n.split()\n",
    "print(s[0][0],s[1],sep=\". \")\n",
    "\n"
   ]
  },
  {
   "cell_type": "code",
   "execution_count": 47,
   "metadata": {
    "scrolled": true
   },
   "outputs": [
    {
     "name": "stdout",
     "output_type": "stream",
     "text": [
      "1 12\n"
     ]
    },
    {
     "data": {
      "text/plain": [
       "13"
      ]
     },
     "execution_count": 47,
     "metadata": {},
     "output_type": "execute_result"
    }
   ],
   "source": [
    "data=input()\n",
    "values=data.split()\n",
    "int_value=list(map(int,values))\n",
    "sum(int_value)"
   ]
  },
  {
   "cell_type": "code",
   "execution_count": 4,
   "metadata": {},
   "outputs": [
    {
     "name": "stdout",
     "output_type": "stream",
     "text": [
      "3\n",
      "2\n",
      "1\n"
     ]
    }
   ],
   "source": [
    "n=\"123\"\n",
    "s=n[::-1]\n",
    "for i in s:\n",
    "    print(i)\n"
   ]
  },
  {
   "cell_type": "code",
   "execution_count": 5,
   "metadata": {},
   "outputs": [
    {
     "name": "stdout",
     "output_type": "stream",
     "text": [
      "20 30 40\n",
      "30\n"
     ]
    }
   ],
   "source": [
    "sri=map(int,input().split())\n",
    "su=0\n",
    "c=0\n",
    "for i in sri:\n",
    "    su+=i\n",
    "    c+=1\n",
    "    av=su//c\n",
    "print(av)"
   ]
  },
  {
   "cell_type": "code",
   "execution_count": 9,
   "metadata": {},
   "outputs": [
    {
     "name": "stdout",
     "output_type": "stream",
     "text": [
      "srinivas Reddy\n",
      "R. srinivas\n"
     ]
    }
   ],
   "source": [
    "f_name=input()\n",
    "lname,fname=f_name.split(\" \")[::-1]\n",
    "print(lname[0],fname,sep=\". \")\n",
    "#print()"
   ]
  },
  {
   "cell_type": "code",
   "execution_count": null,
   "metadata": {},
   "outputs": [],
   "source": [
    "\n",
    "\n",
    "    \n",
    "    "
   ]
  },
  {
   "cell_type": "code",
   "execution_count": null,
   "metadata": {},
   "outputs": [],
   "source": [
    "def prime(lb,ub):\n",
    "    \n",
    "    \n",
    "    a=0\n",
    "    for i in range(lb,lb+1):\n",
    "        if lb%i==0:\n",
    "            a+=1\n",
    "    if a==1:\n",
    "        print(lb,\"prime\")\n",
    "    else:\n",
    "        print(\"not\")\n",
    "    \n",
    "\n",
    "t = int(input())\n",
    "for lb in range(t):\n",
    "    lb,ub=map(int,input().split())\n",
    "    prime(lb,ub)\n",
    "    "
   ]
  },
  {
   "cell_type": "code",
   "execution_count": 29,
   "metadata": {},
   "outputs": [
    {
     "name": "stdout",
     "output_type": "stream",
     "text": [
      "True\n"
     ]
    }
   ],
   "source": [
    "s=\"Pythonprogramming\".lower()\n",
    "a=\"p\"\n",
    "a=a.lower()\n",
    "print(s.startswith(a))\n"
   ]
  },
  {
   "cell_type": "code",
   "execution_count": 22,
   "metadata": {},
   "outputs": [
    {
     "name": "stdout",
     "output_type": "stream",
     "text": [
      "False\n"
     ]
    }
   ],
   "source": [
    "s=\"Pyhton programming\"\n",
    "print(s.endswith(\"gi\"))"
   ]
  },
  {
   "cell_type": "code",
   "execution_count": 37,
   "metadata": {},
   "outputs": [
    {
     "name": "stdout",
     "output_type": "stream",
     "text": [
      "536ghjf\n",
      "[5, 3, 6]\n"
     ]
    }
   ],
   "source": [
    "s=input()\n",
    "d=[]\n",
    "for i in s:\n",
    "    \n",
    "    if i.isdigit():\n",
    "        d.append(int(i))\n",
    "        \n",
    "print(d)\n",
    "    "
   ]
  },
  {
   "cell_type": "code",
   "execution_count": 43,
   "metadata": {},
   "outputs": [
    {
     "name": "stdout",
     "output_type": "stream",
     "text": [
      "['p', 'y', 't', 'h', 'o', 'n', 'y', 'n']\n"
     ]
    }
   ],
   "source": [
    "s=\"pythonyn\"\n",
    "l=[]\n",
    "for i in s:\n",
    "    a=l.append(i)\n",
    "print(l)\n",
    "    "
   ]
  },
  {
   "cell_type": "code",
   "execution_count": 1,
   "metadata": {},
   "outputs": [
    {
     "name": "stdout",
     "output_type": "stream",
     "text": [
      "13\n",
      "20\n",
      "132\n"
     ]
    }
   ],
   "source": [
    "n1=int(input())\n",
    "n=int(input())\n",
    "s=0\n",
    "for i in range(n1,n+1):\n",
    "    s+=i\n",
    "print(s)\n",
    "    "
   ]
  },
  {
   "cell_type": "code",
   "execution_count": 20,
   "metadata": {},
   "outputs": [
    {
     "name": "stdout",
     "output_type": "stream",
     "text": [
      "2\n",
      "10\n",
      "15\n",
      "12\n",
      "10\n",
      "15\n",
      "12\n"
     ]
    }
   ],
   "source": [
    "def Prime(lb,ub):\n",
    "    s=0\n",
    "    c=0\n",
    "    for i in range(lb,ub+1):\n",
    "        \n",
    "        if i>1:\n",
    "            for j in range(2,i):\n",
    "                if i%j==0:\n",
    "                    break\n",
    "            else:\n",
    "                #print(i)\n",
    "                s+=i\n",
    "                c+=1\n",
    "                avg=s//c\n",
    "    print(avg)\n",
    "t=int(input())\n",
    "for i in range(0,t):\n",
    "    \n",
    "    lb=int(input())\n",
    "    ub=int(input())\n",
    "    Prime(lb,ub)\n",
    "            \n",
    "    "
   ]
  },
  {
   "cell_type": "code",
   "execution_count": 37,
   "metadata": {},
   "outputs": [
    {
     "name": "stdout",
     "output_type": "stream",
     "text": [
      "414 213 1\n"
     ]
    }
   ],
   "source": [
    "s=[12,23,4,32,1,32]\n",
    "s1=[12,213,42,43]\n",
    "s1=s1[::-1]\n",
    "for i in s1:\n",
    "    \n",
    "    s.insert(1,i)\n",
    "print(sum(s),max(s),min(s))"
   ]
  },
  {
   "cell_type": "code",
   "execution_count": 24,
   "metadata": {},
   "outputs": [
    {
     "data": {
      "text/plain": [
       "[23, 43, 34, 54, 21, 32, 32, 3434]"
      ]
     },
     "execution_count": 24,
     "metadata": {},
     "output_type": "execute_result"
    }
   ],
   "source": [
    "l=[23,43,34,54]\n",
    "l1=[21,32,32,3434]\n",
    "l.extend(l1)\n"
   ]
  },
  {
   "cell_type": "code",
   "execution_count": 5,
   "metadata": {},
   "outputs": [
    {
     "name": "stdout",
     "output_type": "stream",
     "text": [
      "1\n",
      "5 5 5 5\n",
      "5\n"
     ]
    }
   ],
   "source": [
    "\n",
    "def listss(n):\n",
    "    \n",
    "    for i in range(n):\n",
    "        s=list(map(int,input().split()))\n",
    "        \n",
    "        a=0\n",
    "        co=0\n",
    "        for i in s:\n",
    "            a+=int(i)\n",
    "            co+=1\n",
    "        print(a//co)\n",
    "n=int(input())\n",
    "listss(n)\n",
    "        "
   ]
  },
  {
   "cell_type": "code",
   "execution_count": 4,
   "metadata": {},
   "outputs": [
    {
     "name": "stdout",
     "output_type": "stream",
     "text": [
      "1\n",
      "12 12 12\n",
      "12\n"
     ]
    }
   ],
   "source": [
    "n=int(input())\n",
    "\n",
    "for i in range(n):\n",
    "    s1=list(map(int,input().split()))\n",
    "    a=0\n",
    "    \n",
    "    for s in s1:\n",
    "        a+=int(s)\n",
    "        avg=a//len(s1)\n",
    "    print(avg)\n",
    "    "
   ]
  },
  {
   "cell_type": "code",
   "execution_count": 2,
   "metadata": {},
   "outputs": [
    {
     "name": "stdout",
     "output_type": "stream",
     "text": [
      "1\n",
      "100\n",
      "2121\n",
      "Y\n",
      "E\n",
      "S\n"
     ]
    }
   ],
   "source": [
    "def b(n):\n",
    "    s1=int(input())\n",
    "    for i in range(n):\n",
    "    \n",
    "        s=int(input())\n",
    "        \n",
    "        if s>=s1:\n",
    "            print(\"Y\\nE\\nS\")\n",
    "        else:\n",
    "            print('MO')\n",
    "n=int(input())\n",
    "b(n)"
   ]
  },
  {
   "cell_type": "code",
   "execution_count": 2,
   "metadata": {},
   "outputs": [
    {
     "name": "stdout",
     "output_type": "stream",
     "text": [
      "1\n",
      "1\n",
      "23\n",
      "23\n",
      "43\n",
      "43\n",
      "42\n"
     ]
    }
   ],
   "source": [
    "def s():\n",
    "    while True:\n",
    "        n=int(input())\n",
    "        if n==42:\n",
    "            break\n",
    "        else:\n",
    "            print(n)\n",
    "s()\n",
    "    "
   ]
  },
  {
   "cell_type": "code",
   "execution_count": 9,
   "metadata": {},
   "outputs": [
    {
     "name": "stdout",
     "output_type": "stream",
     "text": [
      "[1, 2, 3, 4, 12, 21, 21, 21, 33, 34]\n"
     ]
    }
   ],
   "source": [
    "s=[12,21,21,21,33,34]\n",
    "s1=[1,2,3,4]\n",
    "s1=s1[::-1]\n",
    "for i in s1:\n",
    "    s.insert(0,i)\n",
    "print(s)"
   ]
  },
  {
   "cell_type": "code",
   "execution_count": 19,
   "metadata": {},
   "outputs": [
    {
     "name": "stdout",
     "output_type": "stream",
     "text": [
      "10 9 8 7 6 5 4 3 2 1 "
     ]
    }
   ],
   "source": [
    "s=0\n",
    "for i in range(10,0,-1):\n",
    "    s+=i\n",
    "    print(i,end=\" \")"
   ]
  },
  {
   "cell_type": "code",
   "execution_count": 48,
   "metadata": {},
   "outputs": [
    {
     "name": "stdout",
     "output_type": "stream",
     "text": [
      "1 3\n",
      "<class 'int'>\n",
      "cra\n",
      "crahana\n"
     ]
    }
   ],
   "source": [
    "s=\"archana\"\n",
    "start,end=list(map(int,input().split()))\n",
    "v1=s[start-1:end][::-1]\n",
    "v2=s[end:]\n",
    "print(v1)\n",
    "#print(v2)\n",
    "print(v1+v2)"
   ]
  },
  {
   "cell_type": "code",
   "execution_count": 51,
   "metadata": {},
   "outputs": [
    {
     "data": {
      "text/plain": [
       "'Srinivas'"
      ]
     },
     "execution_count": 51,
     "metadata": {},
     "output_type": "execute_result"
    }
   ],
   "source": [
    "s=\"srinivas\"\n",
    "s1=s.capitalize()\n",
    "s1"
   ]
  },
  {
   "cell_type": "code",
   "execution_count": 59,
   "metadata": {},
   "outputs": [
    {
     "name": "stdout",
     "output_type": "stream",
     "text": [
      "Apssdc\n"
     ]
    }
   ],
   "source": [
    "a=\"A P S S D C\"\n",
    "s=a.lower()\n",
    "#print(s)\n",
    "s1=s.capitalize()\n",
    "aaa=s1.replace(\" \", \"\")\n",
    "print(aaa)"
   ]
  },
  {
   "cell_type": "code",
   "execution_count": 86,
   "metadata": {},
   "outputs": [
    {
     "name": "stdout",
     "output_type": "stream",
     "text": [
      "sri nivas reddy\n",
      "nivas\n",
      "reddy\n"
     ]
    }
   ],
   "source": [
    "#print maximum length of word\n",
    "s=input().split()\n",
    "s1=[]\n",
    "for i in s:\n",
    "    s1.append(len(i))\n",
    "maxlength=max(s1)\n",
    "\n",
    "for i in s:\n",
    "    if maxlength==len(i):\n",
    "        print(i)\n",
    "    \n"
   ]
  },
  {
   "cell_type": "code",
   "execution_count": 89,
   "metadata": {},
   "outputs": [
    {
     "name": "stdout",
     "output_type": "stream",
     "text": [
      "fgh ghgh fghj\n",
      "4\n",
      "ghgh\n",
      "fghj\n"
     ]
    }
   ],
   "source": [
    "s=input().split()\n",
    "s1=[]\n",
    "for i in s:\n",
    "    s1.append(len(i))\n",
    "leng=max(s1)\n",
    "print(leng)\n",
    "for i in s:\n",
    "    if leng==len(i):\n",
    "        print(i)\n"
   ]
  },
  {
   "cell_type": "code",
   "execution_count": 72,
   "metadata": {},
   "outputs": [
    {
     "name": "stdout",
     "output_type": "stream",
     "text": [
      "apssdc\n",
      "APSSDc\n"
     ]
    }
   ],
   "source": [
    "s=input()\n",
    "s1=s.swapcase()\n",
    "s2=s1[-1].lower()\n",
    "s3=s1[:-1]\n",
    "print(s3+s2)"
   ]
  },
  {
   "cell_type": "code",
   "execution_count": 83,
   "metadata": {},
   "outputs": [
    {
     "name": "stdout",
     "output_type": "stream",
     "text": [
      "WelcomeToWorld\n",
      "3\n"
     ]
    }
   ],
   "source": [
    "word=input()\n",
    "count=0\n",
    "for i in word:\n",
    "    if i.isupper():\n",
    "        count+=1\n",
    "    \n",
    "print(count)\n",
    "    \n"
   ]
  },
  {
   "cell_type": "code",
   "execution_count": 93,
   "metadata": {},
   "outputs": [
    {
     "name": "stdout",
     "output_type": "stream",
     "text": [
      "jhkgh gcjhkjl hfdgnhtmyuik\n",
      "hfdgnhtmyuik\n"
     ]
    }
   ],
   "source": [
    "s=input().split()\n",
    "length=max(list(map(len,s)))\n",
    "for i in s:\n",
    "    if length==len(i):\n",
    "        print(i)"
   ]
  },
  {
   "cell_type": "code",
   "execution_count": 1,
   "metadata": {},
   "outputs": [
    {
     "name": "stdout",
     "output_type": "stream",
     "text": [
      "srinu sri raju viswanth\n",
      "v\n",
      "viswanth\n"
     ]
    }
   ],
   "source": [
    "word=input().split()\n",
    "c=input()\n",
    "match=0\n",
    "for i in word:\n",
    "    if i.startswith(c):\n",
    "        print(i)\n",
    "        match+=1\n",
    "if match==0:\n",
    "        print(\"-1\")"
   ]
  },
  {
   "cell_type": "code",
   "execution_count": 27,
   "metadata": {},
   "outputs": [
    {
     "name": "stdout",
     "output_type": "stream",
     "text": [
      " s d f g h h g \n",
      " S D F G H H G \n"
     ]
    }
   ],
   "source": [
    "s=input()\n",
    "s1=s[:-1].swapcase()+s[-1]\n",
    "print(s1)"
   ]
  },
  {
   "cell_type": "code",
   "execution_count": 8,
   "metadata": {},
   "outputs": [
    {
     "name": "stdout",
     "output_type": "stream",
     "text": [
      "sky try fly srinu sri\n",
      "sky\n",
      "try\n",
      "fly\n"
     ]
    }
   ],
   "source": [
    "#Print all the words which words not ends with vowels(a,e,i,o,u)\n",
    "word=input().split()\n",
    "s=(\"a\",\"e\",\"i\",\"o\",\"u\")\n",
    "for i in word:\n",
    "    if i.endswith(s):\n",
    "        pass\n",
    "    else:\n",
    "        print(i)\n",
    "        \n",
    "        "
   ]
  },
  {
   "cell_type": "code",
   "execution_count": 49,
   "metadata": {},
   "outputs": [
    {
     "name": "stdout",
     "output_type": "stream",
     "text": [
      "sri srinu srinivasa redddy\n",
      "srinivasa\n",
      "redddy\n"
     ]
    }
   ],
   "source": [
    "#Print all the words which word contains duplicate characters\n",
    "names=(input().split())\n",
    "\n",
    "for name in names:\n",
    "    for ch in name:\n",
    "        if name.count(ch)>1:\n",
    "            print(name)\n",
    "            break\n",
    "   "
   ]
  },
  {
   "cell_type": "code",
   "execution_count": 4,
   "metadata": {},
   "outputs": [
    {
     "name": "stdout",
     "output_type": "stream",
     "text": [
      "srini sri srinivas\n",
      "srini\n",
      "srinivas\n"
     ]
    }
   ],
   "source": [
    "s=input().split()\n",
    "\n",
    "for name in s:\n",
    "    for ch in name:\n",
    "        if name.count(ch)>1:\n",
    "            print(name)\n",
    "            break\n",
    "            "
   ]
  },
  {
   "cell_type": "code",
   "execution_count": 83,
   "metadata": {},
   "outputs": [
    {
     "name": "stdout",
     "output_type": "stream",
     "text": [
      "5\n",
      "5 1 5\n",
      "5 2 10\n",
      "5 3 15\n",
      "5 4 20\n",
      "5 5 25\n"
     ]
    }
   ],
   "source": [
    "n=int(input())\n",
    "li=[print(n,i,i*n) for i in range(1,n+1)]\n"
   ]
  },
  {
   "cell_type": "code",
   "execution_count": 82,
   "metadata": {},
   "outputs": [
    {
     "name": "stdout",
     "output_type": "stream",
     "text": [
      "sri\n",
      "['S', 'R', 'I']\n"
     ]
    }
   ],
   "source": [
    "n=input()\n",
    "li=[i.upper() for i in n]\n",
    "print(li)"
   ]
  },
  {
   "cell_type": "code",
   "execution_count": 84,
   "metadata": {},
   "outputs": [
    {
     "name": "stdout",
     "output_type": "stream",
     "text": [
      "HKJHLK\n",
      "['h', 'k', 'j', 'h', 'l', 'k']\n"
     ]
    }
   ],
   "source": [
    "n=input()\n",
    "li=[i.lower() for i in n]\n",
    "print(li)"
   ]
  },
  {
   "cell_type": "code",
   "execution_count": 2,
   "metadata": {},
   "outputs": [
    {
     "name": "stdout",
     "output_type": "stream",
     "text": [
      "100 200 100 200 33 33 21 3\n",
      "150\n"
     ]
    }
   ],
   "source": [
    "#Sum of THREE Digits numbers\n",
    "n=list(map(int,input().split()))\n",
    "l=[]\n",
    "c=0\n",
    "for i in n:\n",
    "    if len(str((i)))==3:\n",
    "        l.append(i)\n",
    "        c+=1\n",
    "avg=sum(l)//c\n",
    "print(avg)\n",
    "        \n",
    "        "
   ]
  },
  {
   "cell_type": "code",
   "execution_count": 14,
   "metadata": {},
   "outputs": [
    {
     "name": "stdout",
     "output_type": "stream",
     "text": [
      "8 88 92 08 67879 68 43 345\n",
      "[8, 88, 8]\n",
      "88\n"
     ]
    }
   ],
   "source": [
    "#Find The maximum Reminder in a list\n",
    "\n",
    "num=list(map(int,input().split()))\n",
    "li=[]\n",
    "#print(num)\n",
    "for i in num:\n",
    "    if (i)%8==0:\n",
    "        li.append(i)\n",
    "#print(li)\n",
    "print(max(li))\n",
    "    \n",
    "\n"
   ]
  },
  {
   "cell_type": "code",
   "execution_count": 18,
   "metadata": {},
   "outputs": [
    {
     "name": "stdout",
     "output_type": "stream",
     "text": [
      "['22', '23', '33', '43']\n"
     ]
    }
   ],
   "source": [
    "s=[\"23\",\"22\",\"33\",\"43\"]\n",
    "s1=sorted(s)\n",
    "print(s1)\n"
   ]
  },
  {
   "cell_type": "code",
   "execution_count": 11,
   "metadata": {},
   "outputs": [
    {
     "name": "stdout",
     "output_type": "stream",
     "text": [
      "1 2 3 4 5 6 7 8 9 10\n",
      "3\n",
      "[3, 2, 1, 4, 5, 6, 7, 8, 9, 10]\n"
     ]
    }
   ],
   "source": [
    "l=list(map(int,input().split()))\n",
    "c=int(input())\n",
    "\n",
    "print(l[:c][::-1]+l[c:])\n"
   ]
  },
  {
   "cell_type": "code",
   "execution_count": 17,
   "metadata": {},
   "outputs": [
    {
     "name": "stdout",
     "output_type": "stream",
     "text": [
      "4354657687 45768798 465789 54678 456789\n",
      "2\n",
      "[45768798, 4354657687, 465789, 54678, 456789]\n"
     ]
    }
   ],
   "source": [
    "l=list(map(int,input().split()))\n",
    "c=int(input())\n",
    "print((l[:c][::-1]+l[c:]))\n"
   ]
  },
  {
   "cell_type": "code",
   "execution_count": null,
   "metadata": {},
   "outputs": [],
   "source": []
  }
 ],
 "metadata": {
  "kernelspec": {
   "display_name": "Python 3",
   "language": "python",
   "name": "python3"
  },
  "language_info": {
   "codemirror_mode": {
    "name": "ipython",
    "version": 3
   },
   "file_extension": ".py",
   "mimetype": "text/x-python",
   "name": "python",
   "nbconvert_exporter": "python",
   "pygments_lexer": "ipython3",
   "version": "3.7.3"
  }
 },
 "nbformat": 4,
 "nbformat_minor": 2
}
