{
 "cells": [
  {
   "cell_type": "markdown",
   "metadata": {},
   "source": [
    "### 24-June-2019 Exam Problem"
   ]
  },
  {
   "cell_type": "code",
   "execution_count": 13,
   "metadata": {},
   "outputs": [
    {
     "name": "stdout",
     "output_type": "stream",
     "text": [
      "dfghjuyt765\n",
      "0 0 0 0 0 1 1 1 0 0 "
     ]
    }
   ],
   "source": [
    "def DigitFrequency1(s):\n",
    "    for i in range(0,10):\n",
    "        #n=input()\n",
    "        print(s.count(str(i)),end=\" \")\n",
    "    #print(s,end=\" \")\n",
    "s=(input())\n",
    "DigitFrequency1(s)"
   ]
  },
  {
   "cell_type": "code",
   "execution_count": 6,
   "metadata": {},
   "outputs": [
    {
     "name": "stdout",
     "output_type": "stream",
     "text": [
      "0 0 0 0 0 0 0 0 0 0 "
     ]
    }
   ],
   "source": [
    "def uniqueData(allnumbers):\n",
    "    unique=[]\n",
    "    for i in allnumbers:\n",
    "        if i not in unique:\n",
    "            unique.append(i)\n",
    "        return unique\n",
    "def digitFrequency1(s):\n",
    "    allnumbers=[]\n",
    "    for i in s:\n",
    "        if i.isdigit():\n",
    "            allnumbers.append(i)\n",
    "    unique=uniqueData(allnumbers)\n",
    "    for i in range(0,10):\n",
    "        if i not in unique:\n",
    "            print(0,end=\" \")\n",
    "        else:\n",
    "            count=allnumbers.count(str(i))\n",
    "            print(count,end=\" \")\n",
    "digitFrequency1(\"876bhufy4576889\")        \n"
   ]
  },
  {
   "cell_type": "code",
   "execution_count": 57,
   "metadata": {},
   "outputs": [
    {
     "data": {
      "text/plain": [
       "4"
      ]
     },
     "execution_count": 57,
     "metadata": {},
     "output_type": "execute_result"
    }
   ],
   "source": [
    "#Function to check the two strings are anagram or not\n",
    "#abc cba -> True\n",
    "#aabbcc aaccbba -> False\n",
    "\n",
    "def checkAnagrams(s1,s2):\n",
    "    if len(s1)!=len(s2):\n",
    "        return False\n",
    "    if sorted(s1)==sorted(s2):\n",
    "        return True\n",
    "    return True\n",
    "        \n",
    "#checkAnagrams(\"dsfdgh\",\"dsfdg\")\n",
    "def charDeletionsAnagram(s1,s2):\n",
    "    uncommen=[]\n",
    "    for i in s1:\n",
    "        if i not in s2:\n",
    "            uncommen.append(i)\n",
    "    for i in s2:\n",
    "        if i not in s1:\n",
    "            uncommen.append(i)\n",
    "    count=len(uncommen)\n",
    "    freqs1={}\n",
    "    freqs2={}\n",
    "    unique1=[]\n",
    "    unique2=[]\n",
    "    for i in s1:\n",
    "        if i not in uncommen and i not in unique1:\n",
    "            freqs1[i]=s1.count(i)\n",
    "            unique1.append(i)\n",
    "    for i in s2:\n",
    "        if i not in uncommen and i not in unique2:\n",
    "            freqs2[i]=s2.count(i)\n",
    "            unique2.append(i) \n",
    "    for key in freqs1.keys():\n",
    "        count+=abs(freqs1[key]-freqs2[key])\n",
    "    return count\n",
    "charDeletionsAnagram(\"sdfvsadf\",\"adsf\")"
   ]
  },
  {
   "cell_type": "markdown",
   "metadata": {},
   "source": [
    "### EXAM Problem 25-June-2019"
   ]
  },
  {
   "cell_type": "code",
   "execution_count": 2,
   "metadata": {},
   "outputs": [
    {
     "data": {
      "text/plain": [
       "6"
      ]
     },
     "execution_count": 2,
     "metadata": {},
     "output_type": "execute_result"
    }
   ],
   "source": [
    "#Average of N numbers\n",
    "def average(lb,ub):\n",
    "    sum=0\n",
    "    c=0\n",
    "    for i in range(lb,ub+1):\n",
    "        sum+=i\n",
    "        c+=1\n",
    "    return sum//c\n",
    "#ib,ub=map(int(input()))\n",
    "average(2,10)"
   ]
  },
  {
   "cell_type": "code",
   "execution_count": null,
   "metadata": {},
   "outputs": [],
   "source": [
    "def KthLargestFreq(s,k):\n",
    "    #Contruct the \n",
    "    #unique=[]\n",
    "    freq={}\n",
    "    for i in s:\n",
    "        if i not in freq.keys():\n",
    "            freq[i]=s.count(i)\n",
    "    values=sorted(freq.values(),reverse=True)\n",
    "    uniqueValues=list(set(values))\n",
    "    unquueValues=sorted(uniqueValues,reverse=True)\n",
    "    kvalue=uniqueValues[k-1]\n",
    "    else:\n",
    "        \n",
    "    li=[]\n",
    "    for item in freq.items():\n",
    "        if item[i]==kvalue:\n",
    "            li.append(item[0]\n",
    "                      "
   ]
  }
 ],
 "metadata": {
  "kernelspec": {
   "display_name": "Python 3",
   "language": "python",
   "name": "python3"
  },
  "language_info": {
   "codemirror_mode": {
    "name": "ipython",
    "version": 3
   },
   "file_extension": ".py",
   "mimetype": "text/x-python",
   "name": "python",
   "nbconvert_exporter": "python",
   "pygments_lexer": "ipython3",
   "version": "3.7.3"
  }
 },
 "nbformat": 4,
 "nbformat_minor": 2
}
