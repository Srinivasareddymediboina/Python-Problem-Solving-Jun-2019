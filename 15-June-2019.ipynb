{
 "cells": [
  {
   "cell_type": "code",
   "execution_count": 5,
   "metadata": {},
   "outputs": [
    {
     "name": "stdout",
     "output_type": "stream",
     "text": [
      "9\n",
      "2 3 5 7 "
     ]
    }
   ],
   "source": [
    "#Prime NUmbers\n",
    "n=int(input())\n",
    "def isPrime(n):\n",
    "    for i in range(2,n+1):\n",
    "        s=0\n",
    "        for r in range(2,i//2+1):\n",
    "            if i%r==0:\n",
    "                s+=1\n",
    "        if s<=0:\n",
    "            print(i,end=\" \")\n",
    "isPrime(n)"
   ]
  },
  {
   "cell_type": "code",
   "execution_count": 2,
   "metadata": {},
   "outputs": [
    {
     "name": "stdout",
     "output_type": "stream",
     "text": [
      "10\n",
      "NO\n"
     ]
    }
   ],
   "source": [
    "#Palindrome\n",
    "s=input()\n",
    "def Palindrome(s):\n",
    "    if s==s[::-1]:\n",
    "        print(\"YES\")\n",
    "    else:\n",
    "        print(\"NO\")\n",
    "Palindrome(s)"
   ]
  },
  {
   "cell_type": "code",
   "execution_count": null,
   "metadata": {},
   "outputs": [],
   "source": [
    "#Count Divisors\n",
    "def countDiv(n,n1,n2):\n",
    "    count=0\n",
    "    for i in range(n,n1+1):\n",
    "        if i%n2==0:\n",
    "            count=count+1\n",
    "    print(count)\n",
    "    return\n",
    " \n",
    "s=input()\n",
    "s=s.split()\n",
    " \n",
    "n=int(s[0])\n",
    "n1=int(s[1])\n",
    "n2=int(s[2])\n",
    "    \n",
    "countDiv(n,n1,n2)"
   ]
  },
  {
   "cell_type": "code",
   "execution_count": 1,
   "metadata": {},
   "outputs": [
    {
     "name": "stdout",
     "output_type": "stream",
     "text": [
      "5\n",
      "120\n"
     ]
    }
   ],
   "source": [
    "#Factorial\n",
    "N=int(input())\n",
    "def factorial(N):\n",
    "    fact = 1\n",
    "    for i in range(2,N+1):\n",
    "        fact *= i\n",
    "    print(fact)\n",
    "factorial(N)"
   ]
  },
  {
   "cell_type": "code",
   "execution_count": null,
   "metadata": {},
   "outputs": [],
   "source": []
  },
  {
   "cell_type": "code",
   "execution_count": 2,
   "metadata": {},
   "outputs": [
    {
     "name": "stdout",
     "output_type": "stream",
     "text": [
      "abcd\n",
      "10\n"
     ]
    }
   ],
   "source": []
  },
  {
   "cell_type": "code",
   "execution_count": null,
   "metadata": {},
   "outputs": [],
   "source": []
  },
  {
   "cell_type": "code",
   "execution_count": 3,
   "metadata": {},
   "outputs": [
    {
     "name": "stdout",
     "output_type": "stream",
     "text": [
      "1\n",
      "sri isri\n",
      "NO\n"
     ]
    }
   ],
   "source": [
    "#Two Strings\n",
    "#----------------\n",
    "def TwoStrings(n):\n",
    "    for i in range(1,n+1):\n",
    "        \n",
    "        s=input()\n",
    "        s=s.split()\n",
    "        s1=s[0]\n",
    "        s2=s[1]\n",
    "        if (sorted(s1)==sorted(s2)):\n",
    "            print(\"YES\")\n",
    "        else:\n",
    "            print(\"NO\")\n",
    "            \n",
    "n=int(input())\n",
    "TwoStrings(n)"
   ]
  },
  {
   "cell_type": "code",
   "execution_count": null,
   "metadata": {},
   "outputs": [],
   "source": []
  }
 ],
 "metadata": {
  "kernelspec": {
   "display_name": "Python 3",
   "language": "python",
   "name": "python3"
  },
  "language_info": {
   "codemirror_mode": {
    "name": "ipython",
    "version": 3
   },
   "file_extension": ".py",
   "mimetype": "text/x-python",
   "name": "python",
   "nbconvert_exporter": "python",
   "pygments_lexer": "ipython3",
   "version": "3.7.3"
  }
 },
 "nbformat": 4,
 "nbformat_minor": 2
}
